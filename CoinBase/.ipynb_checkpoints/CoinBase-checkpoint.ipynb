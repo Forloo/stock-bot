{
 "cells": [
  {
   "cell_type": "code",
   "execution_count": 68,
   "metadata": {},
   "outputs": [
    {
     "name": "stderr",
     "output_type": "stream",
     "text": [
      "<ipython-input-68-6509d3fbe305>:20: DeprecationWarning: executable_path has been deprecated, please pass in a Service object\n",
      "  driver = webdriver.Chrome(chrome_driver_binary, chrome_options=options)\n",
      "<ipython-input-68-6509d3fbe305>:20: DeprecationWarning: use options instead of chrome_options\n",
      "  driver = webdriver.Chrome(chrome_driver_binary, chrome_options=options)\n",
      "<ipython-input-68-6509d3fbe305>:25: DeprecationWarning: find_element_by_xpath is deprecated. Please use find_element(by=By.XPATH, value=xpath) instead\n",
      "  driver.find_element_by_xpath(xpath).click()\n"
     ]
    }
   ],
   "source": [
    "from selenium import webdriver\n",
    "import selenium.webdriver.common.keys\n",
    "from selenium.webdriver.common.action_chains import ActionChains\n",
    "from bs4 import BeautifulSoup\n",
    "import pandas as pd\n",
    "import time\n",
    "from inputs import * #BINARY_LOCATION, CHROME_DRIVER_BINARY, USERNAME, PASSWORD\n",
    "\n",
    "from selenium.webdriver.support.ui import WebDriverWait\n",
    "from selenium.webdriver.common.by import By\n",
    "from selenium.webdriver.support import expected_conditions as EC\n",
    "\n",
    "# Tutorials:\n",
    "# https://www.edureka.co/blog/web-scraping-with-python/#whypython\n",
    "# https://www.scrapingbee.com/blog/selenium-python/\n",
    "\n",
    "# opening browser\n",
    "options = webdriver.ChromeOptions()\n",
    "chrome_driver_binary = \"/Users/jinseokoh/StockBot/chromedriver\"\n",
    "driver = webdriver.Chrome(chrome_driver_binary, chrome_options=options)\n",
    "driver.get('https://www.coinbase.com/')\n",
    "\n",
    "#defining click\n",
    "def click(xpath):\n",
    "    driver.find_element_by_xpath(xpath).click()\n",
    "\n",
    "#click sign in button\n",
    "sign_in = '//*[@id=\"root\"]/div[1]/header/div/div/div[2]/div[2]/span/span'\n",
    "click(sign_in)\n",
    "\n",
    "#enter email\n",
    "email = '/html/body/div[1]/div/div[1]/div/div/div/form/div[2]/div/div/span/input'\n",
    "email_string = \"\"\n",
    "WebDriverWait(driver, 20).until(EC.element_to_be_clickable((By.XPATH, email))).send_keys(email_string)\n",
    "\n",
    "#click continue\n",
    "continueB = '/html/body/div[1]/div/div[1]/div/div/div/form/div[5]/ul/li[1]/button'\n",
    "click(continueB)\n",
    "\n",
    "#enter password\n",
    "password = '/html/body/div[1]/div/div[1]/div/div/div[1]/form/div[4]/div/div/div/span/input'\n",
    "password_string = \"\"\n",
    "WebDriverWait(driver, 20).until(EC.element_to_be_clickable((By.XPATH, password))).send_keys(password_string)\n",
    "\n",
    "#click continue\n",
    "continueBP = '/html/body/div[1]/div/div[1]/div/div/div[1]/form/div[8]/button'\n",
    "click(continueBP)\n",
    "\n",
    "#sign in using the security code sent to iphone"
   ]
  },
  {
   "cell_type": "code",
   "execution_count": 64,
   "metadata": {},
   "outputs": [],
   "source": [
    "#open up new tab, now logged in\n",
    "driver.execute_script('''window.open(\"https://www.coinbase.com/home\",\"_blank\");''')"
   ]
  },
  {
   "cell_type": "code",
   "execution_count": 63,
   "metadata": {},
   "outputs": [],
   "source": [
    "#switch tabs, assign one tab for each coin and webscrape simultaneously\n",
    "driver.switch_to.window(driver.window_handles[2])"
   ]
  },
  {
   "cell_type": "code",
   "execution_count": 26,
   "metadata": {},
   "outputs": [
    {
     "name": "stderr",
     "output_type": "stream",
     "text": [
      "<ipython-input-1-bccaeb28f90f>:19: DeprecationWarning: find_element_by_xpath is deprecated. Please use find_element(by=By.XPATH, value=xpath) instead\n",
      "  driver.find_element_by_xpath(xpath).click()\n",
      "<ipython-input-26-22f2ae557520>:9: DeprecationWarning: find_element_by_xpath is deprecated. Please use find_element(by=By.XPATH, value=xpath) instead\n",
      "  driver.find_element_by_xpath(search_bar).send_keys('bitcoin')\n",
      "<ipython-input-26-22f2ae557520>:13: DeprecationWarning: find_element_by_xpath is deprecated. Please use find_element(by=By.XPATH, value=xpath) instead\n",
      "  btc_price = driver.find_element_by_xpath(bitcoin_price).text\n"
     ]
    },
    {
     "name": "stdout",
     "output_type": "stream",
     "text": [
      "$26,482.04\n"
     ]
    }
   ],
   "source": [
    "#click trade button\n",
    "trade_button = '/html/body/div[1]/div/div/div/div/div/div[3]/div/div/div[1]/div/nav/div/nav/div[2]/a[3]/div/div/button'\n",
    "# trade_button = '/html/body/div[1]/div/div/div/div/div/div[3]/div/div/div[1]/div/nav/div/nav/div[2]/a[3]/div/div/button'\n",
    "click(trade_button)\n",
    "\n",
    "#click search bar and search bitcoin\n",
    "search_bar = '/html/body/div[1]/div/div/div/div/div/div[3]/div/div/div[2]/div[3]/div/div/div/div/div/div/div/div[1]/div/div/div[1]/div[1]/div/section/div/input'\n",
    "click(search_bar)\n",
    "\n",
    "#click on bitcoin tab\n",
    "driver.find_element_by_xpath(search_bar).send_keys('bitcoin')\n",
    "bitcoin = '/html/body/div[1]/div/div/div/div/div/div[3]/div/div/div[2]/div[3]/div/div/div/div/div/div/div/div[1]/div/div/div[2]/div/a[1]/div'\n",
    "click(bitcoin)\n",
    "\n",
    "#get list of coins\n",
    "#get each information of the coins\n",
    "#create a json file out of the information webscraped\n",
    "#code in ocaml or any language desired to impelement the algorithm"
   ]
  },
  {
   "cell_type": "code",
   "execution_count": 35,
   "metadata": {},
   "outputs": [
    {
     "name": "stdout",
     "output_type": "stream",
     "text": [
      "$26,506.70\n"
     ]
    },
    {
     "name": "stderr",
     "output_type": "stream",
     "text": [
      "<ipython-input-35-d62763670971>:3: DeprecationWarning: find_element_by_xpath is deprecated. Please use find_element(by=By.XPATH, value=xpath) instead\n",
      "  btc_price = driver.find_element_by_xpath(bitcoin_price).text\n"
     ]
    }
   ],
   "source": [
    "#get the bitcoin price\n",
    "bitcoin_price = '/html/body/div[1]/div/div/div/div/div/div[3]/div/div/div[2]/nav[1]/div[1]/h1/div/div[2]/div[1]/div/span[1]'\n",
    "btc_price = driver.find_element_by_xpath(bitcoin_price).text\n",
    "print(btc_price)"
   ]
  }
 ],
 "metadata": {
  "kernelspec": {
   "display_name": "Python 3",
   "language": "python",
   "name": "python3"
  },
  "language_info": {
   "codemirror_mode": {
    "name": "ipython",
    "version": 3
   },
   "file_extension": ".py",
   "mimetype": "text/x-python",
   "name": "python",
   "nbconvert_exporter": "python",
   "pygments_lexer": "ipython3",
   "version": "3.8.3"
  }
 },
 "nbformat": 4,
 "nbformat_minor": 4
}

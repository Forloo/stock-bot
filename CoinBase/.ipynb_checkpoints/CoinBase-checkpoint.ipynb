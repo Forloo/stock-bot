{
 "cells": [
  {
   "cell_type": "code",
   "execution_count": 20,
   "metadata": {},
   "outputs": [
    {
     "name": "stderr",
     "output_type": "stream",
     "text": [
      "<ipython-input-20-d43c81dfa691>:20: DeprecationWarning: executable_path has been deprecated, please pass in a Service object\n",
      "  driver = webdriver.Chrome(chrome_driver_binary, chrome_options=options)\n",
      "<ipython-input-20-d43c81dfa691>:20: DeprecationWarning: use options instead of chrome_options\n",
      "  driver = webdriver.Chrome(chrome_driver_binary, chrome_options=options)\n",
      "<ipython-input-20-d43c81dfa691>:25: DeprecationWarning: find_element_by_xpath is deprecated. Please use find_element(by=By.XPATH, value=xpath) instead\n",
      "  driver.find_element_by_xpath(xpath).click()\n"
     ]
    }
   ],
   "source": [
    "from selenium import webdriver\n",
    "import selenium.webdriver.common.keys\n",
    "from selenium.webdriver.common.action_chains import ActionChains\n",
    "from bs4 import BeautifulSoup\n",
    "import pandas as pd\n",
    "import time\n",
    "from inputs import * #BINARY_LOCATION, CHROME_DRIVER_BINARY, USERNAME, PASSWORD\n",
    "\n",
    "from selenium.webdriver.support.ui import WebDriverWait\n",
    "from selenium.webdriver.common.by import By\n",
    "from selenium.webdriver.support import expected_conditions as EC\n",
    "\n",
    "# Tutorials:\n",
    "# https://www.edureka.co/blog/web-scraping-with-python/#whypython\n",
    "# https://www.scrapingbee.com/blog/selenium-python/\n",
    "\n",
    "# opening browser\n",
    "options = webdriver.ChromeOptions()\n",
    "chrome_driver_binary = \"/Users/jinseokoh/StockBot/chromedriver\"\n",
    "driver = webdriver.Chrome(chrome_driver_binary, chrome_options=options)\n",
    "driver.get('https://www.coinbase.com/')\n",
    "\n",
    "#defining click\n",
    "def click(xpath):\n",
    "    driver.find_element_by_xpath(xpath).click()\n",
    "\n",
    "#click sign in button\n",
    "sign_in = '//*[@id=\"root\"]/div[1]/header/div/div/div[2]/div[2]/span/span'\n",
    "click(sign_in)\n",
    "\n",
    "#enter email\n",
    "email = '/html/body/div[1]/div/div[1]/div/div/div/form/div[2]/div/div/span/input'\n",
    "email_string = \"kiplingpower6@gmail.com\"\n",
    "WebDriverWait(driver, 20).until(EC.element_to_be_clickable((By.XPATH, email))).send_keys(email_string)\n",
    "\n",
    "#click continue\n",
    "continueB = '/html/body/div[1]/div/div[1]/div/div/div/form/div[5]/ul/li[1]/button'\n",
    "click(continueB)\n",
    "\n",
    "#enter password\n",
    "password = '/html/body/div[1]/div/div[1]/div/div/div[1]/form/div[4]/div/div/div/span/input'\n",
    "password_string = \"Rhfoqkq5fl5s!\"\n",
    "WebDriverWait(driver, 20).until(EC.element_to_be_clickable((By.XPATH, password))).send_keys(password_string)\n",
    "\n",
    "#click continue\n",
    "continueBP = '/html/body/div[1]/div/div[1]/div/div/div[1]/form/div[8]/button'\n",
    "click(continueBP)\n",
    "\n",
    "#sign in using the security code sent to iphone"
   ]
  },
  {
   "cell_type": "code",
   "execution_count": 48,
   "metadata": {},
   "outputs": [],
   "source": [
    "#open up new tab, now logged in\n",
    "driver.execute_script('''window.open(\"https://www.coinbase.com/home\",\"_blank\");''')"
   ]
  },
  {
   "cell_type": "code",
   "execution_count": 8,
   "metadata": {},
   "outputs": [],
   "source": [
    "#switch tabs, assign one tab for each coin and webscrape simultaneously\n",
    "driver.switch_to.window(driver.window_handles[1])"
   ]
  },
  {
   "cell_type": "code",
   "execution_count": 53,
   "metadata": {},
   "outputs": [
    {
     "name": "stdout",
     "output_type": "stream",
     "text": [
      "[]\n"
     ]
    },
    {
     "name": "stderr",
     "output_type": "stream",
     "text": [
      "<ipython-input-53-acf0812262c8>:2: DeprecationWarning: find_elements_by_css_selector is deprecated. Please use find_elements(by=By.CSS_SELECTOR, value=css_selector) instead\n",
      "  buy_sell_button = driver.find_elements_by_css_selector(\"[aria-label='Buy / Sell modal'] > button\")\n"
     ]
    }
   ],
   "source": [
    "#click buy sell button\n",
    "buy_sell_button = driver.find_elements_by_css_selector(\"[aria-label='Buy / Sell modal'] > button\").click()\n",
    "print(buy_sell_button)\n",
    "# click(buy_sell_button)\n",
    "# driver.find_element_by_xpath(\"//application[@aria-label='Buy / Sell modal']\")"
   ]
  },
  {
   "cell_type": "code",
   "execution_count": 41,
   "metadata": {},
   "outputs": [
    {
     "name": "stderr",
     "output_type": "stream",
     "text": [
      "<ipython-input-41-27b9128ed713>:3: DeprecationWarning: find_element_by_link_text is deprecated. Please use find_element(by=By.LINK_TEXT, value=link_text) instead\n",
      "  trade_button = driver.find_element_by_link_text(\"Buy / Sell modal\")\n"
     ]
    },
    {
     "ename": "NoSuchElementException",
     "evalue": "Message: no such element: Unable to locate element: {\"method\":\"link text\",\"selector\":\"Buy / Sell modal\"}\n  (Session info: chrome=102.0.5005.115)\nStacktrace:\n0   chromedriver                        0x00000001070a2d19 chromedriver + 5197081\n1   chromedriver                        0x0000000107030b23 chromedriver + 4729635\n2   chromedriver                        0x0000000106c0e2b8 chromedriver + 393912\n3   chromedriver                        0x0000000106c432fd chromedriver + 611069\n4   chromedriver                        0x0000000106c43581 chromedriver + 611713\n5   chromedriver                        0x0000000106c755a4 chromedriver + 816548\n6   chromedriver                        0x0000000106c6082d chromedriver + 731181\n7   chromedriver                        0x0000000106c732a1 chromedriver + 807585\n8   chromedriver                        0x0000000106c606f3 chromedriver + 730867\n9   chromedriver                        0x0000000106c36a49 chromedriver + 559689\n10  chromedriver                        0x0000000106c37a75 chromedriver + 563829\n11  chromedriver                        0x0000000107074bdd chromedriver + 5008349\n12  chromedriver                        0x0000000107079b64 chromedriver + 5028708\n13  chromedriver                        0x000000010707ebcf chromedriver + 5049295\n14  chromedriver                        0x000000010707a7ca chromedriver + 5031882\n15  chromedriver                        0x000000010705459f chromedriver + 4875679\n16  chromedriver                        0x0000000107094388 chromedriver + 5137288\n17  chromedriver                        0x000000010709450f chromedriver + 5137679\n18  chromedriver                        0x00000001070aa085 chromedriver + 5226629\n19  libsystem_pthread.dylib             0x00007ff8167da4f4 _pthread_start + 125\n20  libsystem_pthread.dylib             0x00007ff8167d600f thread_start + 15\n",
     "output_type": "error",
     "traceback": [
      "\u001b[0;31m---------------------------------------------------------------------------\u001b[0m",
      "\u001b[0;31mNoSuchElementException\u001b[0m                    Traceback (most recent call last)",
      "\u001b[0;32m<ipython-input-41-27b9128ed713>\u001b[0m in \u001b[0;36m<module>\u001b[0;34m\u001b[0m\n\u001b[1;32m      1\u001b[0m \u001b[0;31m#click trade button\u001b[0m\u001b[0;34m\u001b[0m\u001b[0;34m\u001b[0m\u001b[0;34m\u001b[0m\u001b[0m\n\u001b[1;32m      2\u001b[0m \u001b[0;31m# //*[text()='Trade']\u001b[0m\u001b[0;34m\u001b[0m\u001b[0;34m\u001b[0m\u001b[0;34m\u001b[0m\u001b[0m\n\u001b[0;32m----> 3\u001b[0;31m \u001b[0mtrade_button\u001b[0m \u001b[0;34m=\u001b[0m \u001b[0mdriver\u001b[0m\u001b[0;34m.\u001b[0m\u001b[0mfind_element_by_link_text\u001b[0m\u001b[0;34m(\u001b[0m\u001b[0;34m\"Buy / Sell modal\"\u001b[0m\u001b[0;34m)\u001b[0m\u001b[0;34m\u001b[0m\u001b[0;34m\u001b[0m\u001b[0m\n\u001b[0m\u001b[1;32m      4\u001b[0m \u001b[0mclick\u001b[0m\u001b[0;34m(\u001b[0m\u001b[0mtrade_button\u001b[0m\u001b[0;34m)\u001b[0m\u001b[0;34m\u001b[0m\u001b[0;34m\u001b[0m\u001b[0m\n\u001b[1;32m      5\u001b[0m \u001b[0;31m# trade_button = //div[starts-with(@id, 'post-body-')]/div/form/input\u001b[0m\u001b[0;34m\u001b[0m\u001b[0;34m\u001b[0m\u001b[0;34m\u001b[0m\u001b[0m\n",
      "\u001b[0;32m~/opt/anaconda3/lib/python3.8/site-packages/selenium/webdriver/remote/webdriver.py\u001b[0m in \u001b[0;36mfind_element_by_link_text\u001b[0;34m(self, link_text)\u001b[0m\n\u001b[1;32m    572\u001b[0m             \u001b[0mstacklevel\u001b[0m\u001b[0;34m=\u001b[0m\u001b[0;36m2\u001b[0m\u001b[0;34m,\u001b[0m\u001b[0;34m\u001b[0m\u001b[0;34m\u001b[0m\u001b[0m\n\u001b[1;32m    573\u001b[0m         )\n\u001b[0;32m--> 574\u001b[0;31m         \u001b[0;32mreturn\u001b[0m \u001b[0mself\u001b[0m\u001b[0;34m.\u001b[0m\u001b[0mfind_element\u001b[0m\u001b[0;34m(\u001b[0m\u001b[0mby\u001b[0m\u001b[0;34m=\u001b[0m\u001b[0mBy\u001b[0m\u001b[0;34m.\u001b[0m\u001b[0mLINK_TEXT\u001b[0m\u001b[0;34m,\u001b[0m \u001b[0mvalue\u001b[0m\u001b[0;34m=\u001b[0m\u001b[0mlink_text\u001b[0m\u001b[0;34m)\u001b[0m\u001b[0;34m\u001b[0m\u001b[0;34m\u001b[0m\u001b[0m\n\u001b[0m\u001b[1;32m    575\u001b[0m \u001b[0;34m\u001b[0m\u001b[0m\n\u001b[1;32m    576\u001b[0m     \u001b[0;32mdef\u001b[0m \u001b[0mfind_elements_by_link_text\u001b[0m\u001b[0;34m(\u001b[0m\u001b[0mself\u001b[0m\u001b[0;34m,\u001b[0m \u001b[0mtext\u001b[0m\u001b[0;34m)\u001b[0m \u001b[0;34m->\u001b[0m \u001b[0mList\u001b[0m\u001b[0;34m[\u001b[0m\u001b[0mWebElement\u001b[0m\u001b[0;34m]\u001b[0m\u001b[0;34m:\u001b[0m\u001b[0;34m\u001b[0m\u001b[0;34m\u001b[0m\u001b[0m\n",
      "\u001b[0;32m~/opt/anaconda3/lib/python3.8/site-packages/selenium/webdriver/remote/webdriver.py\u001b[0m in \u001b[0;36mfind_element\u001b[0;34m(self, by, value)\u001b[0m\n\u001b[1;32m   1249\u001b[0m             \u001b[0mvalue\u001b[0m \u001b[0;34m=\u001b[0m \u001b[0;34m'[name=\"%s\"]'\u001b[0m \u001b[0;34m%\u001b[0m \u001b[0mvalue\u001b[0m\u001b[0;34m\u001b[0m\u001b[0;34m\u001b[0m\u001b[0m\n\u001b[1;32m   1250\u001b[0m \u001b[0;34m\u001b[0m\u001b[0m\n\u001b[0;32m-> 1251\u001b[0;31m         return self.execute(Command.FIND_ELEMENT, {\n\u001b[0m\u001b[1;32m   1252\u001b[0m             \u001b[0;34m'using'\u001b[0m\u001b[0;34m:\u001b[0m \u001b[0mby\u001b[0m\u001b[0;34m,\u001b[0m\u001b[0;34m\u001b[0m\u001b[0;34m\u001b[0m\u001b[0m\n\u001b[1;32m   1253\u001b[0m             'value': value})['value']\n",
      "\u001b[0;32m~/opt/anaconda3/lib/python3.8/site-packages/selenium/webdriver/remote/webdriver.py\u001b[0m in \u001b[0;36mexecute\u001b[0;34m(self, driver_command, params)\u001b[0m\n\u001b[1;32m    428\u001b[0m         \u001b[0mresponse\u001b[0m \u001b[0;34m=\u001b[0m \u001b[0mself\u001b[0m\u001b[0;34m.\u001b[0m\u001b[0mcommand_executor\u001b[0m\u001b[0;34m.\u001b[0m\u001b[0mexecute\u001b[0m\u001b[0;34m(\u001b[0m\u001b[0mdriver_command\u001b[0m\u001b[0;34m,\u001b[0m \u001b[0mparams\u001b[0m\u001b[0;34m)\u001b[0m\u001b[0;34m\u001b[0m\u001b[0;34m\u001b[0m\u001b[0m\n\u001b[1;32m    429\u001b[0m         \u001b[0;32mif\u001b[0m \u001b[0mresponse\u001b[0m\u001b[0;34m:\u001b[0m\u001b[0;34m\u001b[0m\u001b[0;34m\u001b[0m\u001b[0m\n\u001b[0;32m--> 430\u001b[0;31m             \u001b[0mself\u001b[0m\u001b[0;34m.\u001b[0m\u001b[0merror_handler\u001b[0m\u001b[0;34m.\u001b[0m\u001b[0mcheck_response\u001b[0m\u001b[0;34m(\u001b[0m\u001b[0mresponse\u001b[0m\u001b[0;34m)\u001b[0m\u001b[0;34m\u001b[0m\u001b[0;34m\u001b[0m\u001b[0m\n\u001b[0m\u001b[1;32m    431\u001b[0m             response['value'] = self._unwrap_value(\n\u001b[1;32m    432\u001b[0m                 response.get('value', None))\n",
      "\u001b[0;32m~/opt/anaconda3/lib/python3.8/site-packages/selenium/webdriver/remote/errorhandler.py\u001b[0m in \u001b[0;36mcheck_response\u001b[0;34m(self, response)\u001b[0m\n\u001b[1;32m    245\u001b[0m                 \u001b[0malert_text\u001b[0m \u001b[0;34m=\u001b[0m \u001b[0mvalue\u001b[0m\u001b[0;34m[\u001b[0m\u001b[0;34m'alert'\u001b[0m\u001b[0;34m]\u001b[0m\u001b[0;34m.\u001b[0m\u001b[0mget\u001b[0m\u001b[0;34m(\u001b[0m\u001b[0;34m'text'\u001b[0m\u001b[0;34m)\u001b[0m\u001b[0;34m\u001b[0m\u001b[0;34m\u001b[0m\u001b[0m\n\u001b[1;32m    246\u001b[0m             \u001b[0;32mraise\u001b[0m \u001b[0mexception_class\u001b[0m\u001b[0;34m(\u001b[0m\u001b[0mmessage\u001b[0m\u001b[0;34m,\u001b[0m \u001b[0mscreen\u001b[0m\u001b[0;34m,\u001b[0m \u001b[0mstacktrace\u001b[0m\u001b[0;34m,\u001b[0m \u001b[0malert_text\u001b[0m\u001b[0;34m)\u001b[0m  \u001b[0;31m# type: ignore[call-arg]  # mypy is not smart enough here\u001b[0m\u001b[0;34m\u001b[0m\u001b[0;34m\u001b[0m\u001b[0m\n\u001b[0;32m--> 247\u001b[0;31m         \u001b[0;32mraise\u001b[0m \u001b[0mexception_class\u001b[0m\u001b[0;34m(\u001b[0m\u001b[0mmessage\u001b[0m\u001b[0;34m,\u001b[0m \u001b[0mscreen\u001b[0m\u001b[0;34m,\u001b[0m \u001b[0mstacktrace\u001b[0m\u001b[0;34m)\u001b[0m\u001b[0;34m\u001b[0m\u001b[0;34m\u001b[0m\u001b[0m\n\u001b[0m\u001b[1;32m    248\u001b[0m \u001b[0;34m\u001b[0m\u001b[0m\n\u001b[1;32m    249\u001b[0m     \u001b[0;32mdef\u001b[0m \u001b[0m_value_or_default\u001b[0m\u001b[0;34m(\u001b[0m\u001b[0mself\u001b[0m\u001b[0;34m,\u001b[0m \u001b[0mobj\u001b[0m\u001b[0;34m:\u001b[0m \u001b[0mMapping\u001b[0m\u001b[0;34m[\u001b[0m\u001b[0m_KT\u001b[0m\u001b[0;34m,\u001b[0m \u001b[0m_VT\u001b[0m\u001b[0;34m]\u001b[0m\u001b[0;34m,\u001b[0m \u001b[0mkey\u001b[0m\u001b[0;34m:\u001b[0m \u001b[0m_KT\u001b[0m\u001b[0;34m,\u001b[0m \u001b[0mdefault\u001b[0m\u001b[0;34m:\u001b[0m \u001b[0m_VT\u001b[0m\u001b[0;34m)\u001b[0m \u001b[0;34m->\u001b[0m \u001b[0m_VT\u001b[0m\u001b[0;34m:\u001b[0m\u001b[0;34m\u001b[0m\u001b[0;34m\u001b[0m\u001b[0m\n",
      "\u001b[0;31mNoSuchElementException\u001b[0m: Message: no such element: Unable to locate element: {\"method\":\"link text\",\"selector\":\"Buy / Sell modal\"}\n  (Session info: chrome=102.0.5005.115)\nStacktrace:\n0   chromedriver                        0x00000001070a2d19 chromedriver + 5197081\n1   chromedriver                        0x0000000107030b23 chromedriver + 4729635\n2   chromedriver                        0x0000000106c0e2b8 chromedriver + 393912\n3   chromedriver                        0x0000000106c432fd chromedriver + 611069\n4   chromedriver                        0x0000000106c43581 chromedriver + 611713\n5   chromedriver                        0x0000000106c755a4 chromedriver + 816548\n6   chromedriver                        0x0000000106c6082d chromedriver + 731181\n7   chromedriver                        0x0000000106c732a1 chromedriver + 807585\n8   chromedriver                        0x0000000106c606f3 chromedriver + 730867\n9   chromedriver                        0x0000000106c36a49 chromedriver + 559689\n10  chromedriver                        0x0000000106c37a75 chromedriver + 563829\n11  chromedriver                        0x0000000107074bdd chromedriver + 5008349\n12  chromedriver                        0x0000000107079b64 chromedriver + 5028708\n13  chromedriver                        0x000000010707ebcf chromedriver + 5049295\n14  chromedriver                        0x000000010707a7ca chromedriver + 5031882\n15  chromedriver                        0x000000010705459f chromedriver + 4875679\n16  chromedriver                        0x0000000107094388 chromedriver + 5137288\n17  chromedriver                        0x000000010709450f chromedriver + 5137679\n18  chromedriver                        0x00000001070aa085 chromedriver + 5226629\n19  libsystem_pthread.dylib             0x00007ff8167da4f4 _pthread_start + 125\n20  libsystem_pthread.dylib             0x00007ff8167d600f thread_start + 15\n"
     ]
    }
   ],
   "source": [
    "#click trade button\n",
    "# //*[text()='Trade']\n",
    "trade_button = driver.find_element_by_link_text(\"Buy / Sell modal\")\n",
    "click(trade_button)\n",
    "# trade_button = //div[starts-with(@id, 'post-body-')]/div/form/input\n",
    "# trade_button = '/html/body/div[1]/div/div/div/div[1]/div/div[3]/div/div/div[1]/div/nav/div/nav/div[2]/a[3]/div/div/button'\n",
    "# trade_button = ''\n",
    "#trade_button xpath changes\n",
    "# //*[@id=\"root\"]/div/div/div/div[1]/div/div[3]/div/div/div[1]/div/nav/div/nav/div[2]/a[3]/div/div/button\n",
    "# /html/body/div[1]/div/div/div/div[1]/div/div[3]/div/div/div[1]/div/nav/div/nav/div[2]/a[3]/div/div/button\n",
    "# click(//input[starts-with(@id,'root'))\n",
    "# click(//div[@id=root' and contains(text(), 'div/div/div/')])\n",
    "# click(trade_button)\n",
    "# driver.find_elements_by_class_name(\"cds-subjectStyle-syh3v8b\").click();"
   ]
  },
  {
   "cell_type": "code",
   "execution_count": 31,
   "metadata": {},
   "outputs": [
    {
     "name": "stderr",
     "output_type": "stream",
     "text": [
      "<ipython-input-20-d43c81dfa691>:25: DeprecationWarning: find_element_by_xpath is deprecated. Please use find_element(by=By.XPATH, value=xpath) instead\n",
      "  driver.find_element_by_xpath(xpath).click()\n"
     ]
    },
    {
     "ename": "NoSuchElementException",
     "evalue": "Message: no such element: Unable to locate element: {\"method\":\"xpath\",\"selector\":\"/html/body/div[1]/div/div/div/div[1]/div/div[3]/div/div/div[1]/div/nav/div/nav/div[2]/a[3]/div/div/button\"}\n  (Session info: chrome=102.0.5005.115)\nStacktrace:\n0   chromedriver                        0x00000001070a2d19 chromedriver + 5197081\n1   chromedriver                        0x0000000107030b23 chromedriver + 4729635\n2   chromedriver                        0x0000000106c0e2b8 chromedriver + 393912\n3   chromedriver                        0x0000000106c432fd chromedriver + 611069\n4   chromedriver                        0x0000000106c43581 chromedriver + 611713\n5   chromedriver                        0x0000000106c755a4 chromedriver + 816548\n6   chromedriver                        0x0000000106c6082d chromedriver + 731181\n7   chromedriver                        0x0000000106c732a1 chromedriver + 807585\n8   chromedriver                        0x0000000106c606f3 chromedriver + 730867\n9   chromedriver                        0x0000000106c36a49 chromedriver + 559689\n10  chromedriver                        0x0000000106c37a75 chromedriver + 563829\n11  chromedriver                        0x0000000107074bdd chromedriver + 5008349\n12  chromedriver                        0x0000000107079b64 chromedriver + 5028708\n13  chromedriver                        0x000000010707ebcf chromedriver + 5049295\n14  chromedriver                        0x000000010707a7ca chromedriver + 5031882\n15  chromedriver                        0x000000010705459f chromedriver + 4875679\n16  chromedriver                        0x0000000107094388 chromedriver + 5137288\n17  chromedriver                        0x000000010709450f chromedriver + 5137679\n18  chromedriver                        0x00000001070aa085 chromedriver + 5226629\n19  libsystem_pthread.dylib             0x00007ff8167da4f4 _pthread_start + 125\n20  libsystem_pthread.dylib             0x00007ff8167d600f thread_start + 15\n",
     "output_type": "error",
     "traceback": [
      "\u001b[0;31m---------------------------------------------------------------------------\u001b[0m",
      "\u001b[0;31mNoSuchElementException\u001b[0m                    Traceback (most recent call last)",
      "\u001b[0;32m<ipython-input-31-d03465f57770>\u001b[0m in \u001b[0;36m<module>\u001b[0;34m\u001b[0m\n\u001b[1;32m      2\u001b[0m \u001b[0mtrade_button\u001b[0m \u001b[0;34m=\u001b[0m \u001b[0;34m'/html/body/div[1]/div/div/div/div[1]/div/div[3]/div/div/div[1]/div/nav/div/nav/div[2]/a[3]/div/div/button'\u001b[0m\u001b[0;34m\u001b[0m\u001b[0;34m\u001b[0m\u001b[0m\n\u001b[1;32m      3\u001b[0m \u001b[0;31m#trade_button xpath changes\u001b[0m\u001b[0;34m\u001b[0m\u001b[0;34m\u001b[0m\u001b[0;34m\u001b[0m\u001b[0m\n\u001b[0;32m----> 4\u001b[0;31m \u001b[0mclick\u001b[0m\u001b[0;34m(\u001b[0m\u001b[0mtrade_button\u001b[0m\u001b[0;34m)\u001b[0m\u001b[0;34m\u001b[0m\u001b[0;34m\u001b[0m\u001b[0m\n\u001b[0m\u001b[1;32m      5\u001b[0m \u001b[0;31m# driver.find_elements_by_class_name(\"cds-subjectStyle-syh3v8b\").click();\u001b[0m\u001b[0;34m\u001b[0m\u001b[0;34m\u001b[0m\u001b[0;34m\u001b[0m\u001b[0m\n\u001b[1;32m      6\u001b[0m \u001b[0;34m\u001b[0m\u001b[0m\n",
      "\u001b[0;32m<ipython-input-20-d43c81dfa691>\u001b[0m in \u001b[0;36mclick\u001b[0;34m(xpath)\u001b[0m\n\u001b[1;32m     23\u001b[0m \u001b[0;31m#defining click\u001b[0m\u001b[0;34m\u001b[0m\u001b[0;34m\u001b[0m\u001b[0;34m\u001b[0m\u001b[0m\n\u001b[1;32m     24\u001b[0m \u001b[0;32mdef\u001b[0m \u001b[0mclick\u001b[0m\u001b[0;34m(\u001b[0m\u001b[0mxpath\u001b[0m\u001b[0;34m)\u001b[0m\u001b[0;34m:\u001b[0m\u001b[0;34m\u001b[0m\u001b[0;34m\u001b[0m\u001b[0m\n\u001b[0;32m---> 25\u001b[0;31m     \u001b[0mdriver\u001b[0m\u001b[0;34m.\u001b[0m\u001b[0mfind_element_by_xpath\u001b[0m\u001b[0;34m(\u001b[0m\u001b[0mxpath\u001b[0m\u001b[0;34m)\u001b[0m\u001b[0;34m.\u001b[0m\u001b[0mclick\u001b[0m\u001b[0;34m(\u001b[0m\u001b[0;34m)\u001b[0m\u001b[0;34m\u001b[0m\u001b[0;34m\u001b[0m\u001b[0m\n\u001b[0m\u001b[1;32m     26\u001b[0m \u001b[0;34m\u001b[0m\u001b[0m\n\u001b[1;32m     27\u001b[0m \u001b[0;31m#click sign in button\u001b[0m\u001b[0;34m\u001b[0m\u001b[0;34m\u001b[0m\u001b[0;34m\u001b[0m\u001b[0m\n",
      "\u001b[0;32m~/opt/anaconda3/lib/python3.8/site-packages/selenium/webdriver/remote/webdriver.py\u001b[0m in \u001b[0;36mfind_element_by_xpath\u001b[0;34m(self, xpath)\u001b[0m\n\u001b[1;32m    524\u001b[0m             \u001b[0mstacklevel\u001b[0m\u001b[0;34m=\u001b[0m\u001b[0;36m2\u001b[0m\u001b[0;34m,\u001b[0m\u001b[0;34m\u001b[0m\u001b[0;34m\u001b[0m\u001b[0m\n\u001b[1;32m    525\u001b[0m         )\n\u001b[0;32m--> 526\u001b[0;31m         \u001b[0;32mreturn\u001b[0m \u001b[0mself\u001b[0m\u001b[0;34m.\u001b[0m\u001b[0mfind_element\u001b[0m\u001b[0;34m(\u001b[0m\u001b[0mby\u001b[0m\u001b[0;34m=\u001b[0m\u001b[0mBy\u001b[0m\u001b[0;34m.\u001b[0m\u001b[0mXPATH\u001b[0m\u001b[0;34m,\u001b[0m \u001b[0mvalue\u001b[0m\u001b[0;34m=\u001b[0m\u001b[0mxpath\u001b[0m\u001b[0;34m)\u001b[0m\u001b[0;34m\u001b[0m\u001b[0;34m\u001b[0m\u001b[0m\n\u001b[0m\u001b[1;32m    527\u001b[0m \u001b[0;34m\u001b[0m\u001b[0m\n\u001b[1;32m    528\u001b[0m     \u001b[0;32mdef\u001b[0m \u001b[0mfind_elements_by_xpath\u001b[0m\u001b[0;34m(\u001b[0m\u001b[0mself\u001b[0m\u001b[0;34m,\u001b[0m \u001b[0mxpath\u001b[0m\u001b[0;34m)\u001b[0m \u001b[0;34m->\u001b[0m \u001b[0mList\u001b[0m\u001b[0;34m[\u001b[0m\u001b[0mWebElement\u001b[0m\u001b[0;34m]\u001b[0m\u001b[0;34m:\u001b[0m\u001b[0;34m\u001b[0m\u001b[0;34m\u001b[0m\u001b[0m\n",
      "\u001b[0;32m~/opt/anaconda3/lib/python3.8/site-packages/selenium/webdriver/remote/webdriver.py\u001b[0m in \u001b[0;36mfind_element\u001b[0;34m(self, by, value)\u001b[0m\n\u001b[1;32m   1249\u001b[0m             \u001b[0mvalue\u001b[0m \u001b[0;34m=\u001b[0m \u001b[0;34m'[name=\"%s\"]'\u001b[0m \u001b[0;34m%\u001b[0m \u001b[0mvalue\u001b[0m\u001b[0;34m\u001b[0m\u001b[0;34m\u001b[0m\u001b[0m\n\u001b[1;32m   1250\u001b[0m \u001b[0;34m\u001b[0m\u001b[0m\n\u001b[0;32m-> 1251\u001b[0;31m         return self.execute(Command.FIND_ELEMENT, {\n\u001b[0m\u001b[1;32m   1252\u001b[0m             \u001b[0;34m'using'\u001b[0m\u001b[0;34m:\u001b[0m \u001b[0mby\u001b[0m\u001b[0;34m,\u001b[0m\u001b[0;34m\u001b[0m\u001b[0;34m\u001b[0m\u001b[0m\n\u001b[1;32m   1253\u001b[0m             'value': value})['value']\n",
      "\u001b[0;32m~/opt/anaconda3/lib/python3.8/site-packages/selenium/webdriver/remote/webdriver.py\u001b[0m in \u001b[0;36mexecute\u001b[0;34m(self, driver_command, params)\u001b[0m\n\u001b[1;32m    428\u001b[0m         \u001b[0mresponse\u001b[0m \u001b[0;34m=\u001b[0m \u001b[0mself\u001b[0m\u001b[0;34m.\u001b[0m\u001b[0mcommand_executor\u001b[0m\u001b[0;34m.\u001b[0m\u001b[0mexecute\u001b[0m\u001b[0;34m(\u001b[0m\u001b[0mdriver_command\u001b[0m\u001b[0;34m,\u001b[0m \u001b[0mparams\u001b[0m\u001b[0;34m)\u001b[0m\u001b[0;34m\u001b[0m\u001b[0;34m\u001b[0m\u001b[0m\n\u001b[1;32m    429\u001b[0m         \u001b[0;32mif\u001b[0m \u001b[0mresponse\u001b[0m\u001b[0;34m:\u001b[0m\u001b[0;34m\u001b[0m\u001b[0;34m\u001b[0m\u001b[0m\n\u001b[0;32m--> 430\u001b[0;31m             \u001b[0mself\u001b[0m\u001b[0;34m.\u001b[0m\u001b[0merror_handler\u001b[0m\u001b[0;34m.\u001b[0m\u001b[0mcheck_response\u001b[0m\u001b[0;34m(\u001b[0m\u001b[0mresponse\u001b[0m\u001b[0;34m)\u001b[0m\u001b[0;34m\u001b[0m\u001b[0;34m\u001b[0m\u001b[0m\n\u001b[0m\u001b[1;32m    431\u001b[0m             response['value'] = self._unwrap_value(\n\u001b[1;32m    432\u001b[0m                 response.get('value', None))\n",
      "\u001b[0;32m~/opt/anaconda3/lib/python3.8/site-packages/selenium/webdriver/remote/errorhandler.py\u001b[0m in \u001b[0;36mcheck_response\u001b[0;34m(self, response)\u001b[0m\n\u001b[1;32m    245\u001b[0m                 \u001b[0malert_text\u001b[0m \u001b[0;34m=\u001b[0m \u001b[0mvalue\u001b[0m\u001b[0;34m[\u001b[0m\u001b[0;34m'alert'\u001b[0m\u001b[0;34m]\u001b[0m\u001b[0;34m.\u001b[0m\u001b[0mget\u001b[0m\u001b[0;34m(\u001b[0m\u001b[0;34m'text'\u001b[0m\u001b[0;34m)\u001b[0m\u001b[0;34m\u001b[0m\u001b[0;34m\u001b[0m\u001b[0m\n\u001b[1;32m    246\u001b[0m             \u001b[0;32mraise\u001b[0m \u001b[0mexception_class\u001b[0m\u001b[0;34m(\u001b[0m\u001b[0mmessage\u001b[0m\u001b[0;34m,\u001b[0m \u001b[0mscreen\u001b[0m\u001b[0;34m,\u001b[0m \u001b[0mstacktrace\u001b[0m\u001b[0;34m,\u001b[0m \u001b[0malert_text\u001b[0m\u001b[0;34m)\u001b[0m  \u001b[0;31m# type: ignore[call-arg]  # mypy is not smart enough here\u001b[0m\u001b[0;34m\u001b[0m\u001b[0;34m\u001b[0m\u001b[0m\n\u001b[0;32m--> 247\u001b[0;31m         \u001b[0;32mraise\u001b[0m \u001b[0mexception_class\u001b[0m\u001b[0;34m(\u001b[0m\u001b[0mmessage\u001b[0m\u001b[0;34m,\u001b[0m \u001b[0mscreen\u001b[0m\u001b[0;34m,\u001b[0m \u001b[0mstacktrace\u001b[0m\u001b[0;34m)\u001b[0m\u001b[0;34m\u001b[0m\u001b[0;34m\u001b[0m\u001b[0m\n\u001b[0m\u001b[1;32m    248\u001b[0m \u001b[0;34m\u001b[0m\u001b[0m\n\u001b[1;32m    249\u001b[0m     \u001b[0;32mdef\u001b[0m \u001b[0m_value_or_default\u001b[0m\u001b[0;34m(\u001b[0m\u001b[0mself\u001b[0m\u001b[0;34m,\u001b[0m \u001b[0mobj\u001b[0m\u001b[0;34m:\u001b[0m \u001b[0mMapping\u001b[0m\u001b[0;34m[\u001b[0m\u001b[0m_KT\u001b[0m\u001b[0;34m,\u001b[0m \u001b[0m_VT\u001b[0m\u001b[0;34m]\u001b[0m\u001b[0;34m,\u001b[0m \u001b[0mkey\u001b[0m\u001b[0;34m:\u001b[0m \u001b[0m_KT\u001b[0m\u001b[0;34m,\u001b[0m \u001b[0mdefault\u001b[0m\u001b[0;34m:\u001b[0m \u001b[0m_VT\u001b[0m\u001b[0;34m)\u001b[0m \u001b[0;34m->\u001b[0m \u001b[0m_VT\u001b[0m\u001b[0;34m:\u001b[0m\u001b[0;34m\u001b[0m\u001b[0;34m\u001b[0m\u001b[0m\n",
      "\u001b[0;31mNoSuchElementException\u001b[0m: Message: no such element: Unable to locate element: {\"method\":\"xpath\",\"selector\":\"/html/body/div[1]/div/div/div/div[1]/div/div[3]/div/div/div[1]/div/nav/div/nav/div[2]/a[3]/div/div/button\"}\n  (Session info: chrome=102.0.5005.115)\nStacktrace:\n0   chromedriver                        0x00000001070a2d19 chromedriver + 5197081\n1   chromedriver                        0x0000000107030b23 chromedriver + 4729635\n2   chromedriver                        0x0000000106c0e2b8 chromedriver + 393912\n3   chromedriver                        0x0000000106c432fd chromedriver + 611069\n4   chromedriver                        0x0000000106c43581 chromedriver + 611713\n5   chromedriver                        0x0000000106c755a4 chromedriver + 816548\n6   chromedriver                        0x0000000106c6082d chromedriver + 731181\n7   chromedriver                        0x0000000106c732a1 chromedriver + 807585\n8   chromedriver                        0x0000000106c606f3 chromedriver + 730867\n9   chromedriver                        0x0000000106c36a49 chromedriver + 559689\n10  chromedriver                        0x0000000106c37a75 chromedriver + 563829\n11  chromedriver                        0x0000000107074bdd chromedriver + 5008349\n12  chromedriver                        0x0000000107079b64 chromedriver + 5028708\n13  chromedriver                        0x000000010707ebcf chromedriver + 5049295\n14  chromedriver                        0x000000010707a7ca chromedriver + 5031882\n15  chromedriver                        0x000000010705459f chromedriver + 4875679\n16  chromedriver                        0x0000000107094388 chromedriver + 5137288\n17  chromedriver                        0x000000010709450f chromedriver + 5137679\n18  chromedriver                        0x00000001070aa085 chromedriver + 5226629\n19  libsystem_pthread.dylib             0x00007ff8167da4f4 _pthread_start + 125\n20  libsystem_pthread.dylib             0x00007ff8167d600f thread_start + 15\n"
     ]
    }
   ],
   "source": [
    "\n",
    "\n",
    "# search_bar = '/html/body/div[1]/div/div/div/div[1]/div/div[3]/div/div[2]/div[3]/div/div/div/div/div/div/div/div[1]/div/div/div[1]/div[1]/div/section/div/input'\n",
    "#click search bar and search bitcoin\n",
    "search_bar = '//*[@id=\"root\"]/div/div/div/div[1]/div/div[3]/div/div/div[2]/div[3]/div/div/div/div/div/div/div/div[1]/div/div/div[1]/div[1]/div/section/div/input'\n",
    "#search_bar xpath changes\n",
    "click(search_bar)\n",
    "\n",
    "# #click on bitcoin tab\n",
    "driver.find_element_by_xpath(search_bar).send_keys('bitcoin')\n",
    "bitcoin = '/html/body/div[1]/div/div/div/div/div/div[3]/div/div/div[2]/div[3]/div/div/div/div/div/div/div/div[1]/div/div/div[2]/div/a[1]/div'\n",
    "click(bitcoin)\n",
    "\n",
    "#get list of coins\n",
    "#get each information of the coins\n",
    "#create a json file out of the information webscraped\n",
    "#code in ocaml or any language desired to impelement the algorithm"
   ]
  },
  {
   "cell_type": "code",
   "execution_count": 35,
   "metadata": {},
   "outputs": [
    {
     "name": "stdout",
     "output_type": "stream",
     "text": [
      "$26,506.70\n"
     ]
    },
    {
     "name": "stderr",
     "output_type": "stream",
     "text": [
      "<ipython-input-35-d62763670971>:3: DeprecationWarning: find_element_by_xpath is deprecated. Please use find_element(by=By.XPATH, value=xpath) instead\n",
      "  btc_price = driver.find_element_by_xpath(bitcoin_price).text\n"
     ]
    }
   ],
   "source": [
    "#get the bitcoin price\n",
    "bitcoin_price = '/html/body/div[1]/div/div/div/div/div/div[3]/div/div/div[2]/nav[1]/div[1]/h1/div/div[2]/div[1]/div/span[1]'\n",
    "btc_price = driver.find_element_by_xpath(bitcoin_price).text\n",
    "print(btc_price)"
   ]
  }
 ],
 "metadata": {
  "kernelspec": {
   "display_name": "Python 3",
   "language": "python",
   "name": "python3"
  },
  "language_info": {
   "codemirror_mode": {
    "name": "ipython",
    "version": 3
   },
   "file_extension": ".py",
   "mimetype": "text/x-python",
   "name": "python",
   "nbconvert_exporter": "python",
   "pygments_lexer": "ipython3",
   "version": "3.8.3"
  }
 },
 "nbformat": 4,
 "nbformat_minor": 4
}

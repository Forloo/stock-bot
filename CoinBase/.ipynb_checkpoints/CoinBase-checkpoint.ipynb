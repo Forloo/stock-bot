{
 "cells": [
  {
   "cell_type": "code",
   "execution_count": 24,
   "metadata": {},
   "outputs": [
    {
     "name": "stderr",
     "output_type": "stream",
     "text": [
      "<ipython-input-24-d43c81dfa691>:20: DeprecationWarning: executable_path has been deprecated, please pass in a Service object\n",
      "  driver = webdriver.Chrome(chrome_driver_binary, chrome_options=options)\n",
      "<ipython-input-24-d43c81dfa691>:20: DeprecationWarning: use options instead of chrome_options\n",
      "  driver = webdriver.Chrome(chrome_driver_binary, chrome_options=options)\n",
      "<ipython-input-24-d43c81dfa691>:25: DeprecationWarning: find_element_by_xpath is deprecated. Please use find_element(by=By.XPATH, value=xpath) instead\n",
      "  driver.find_element_by_xpath(xpath).click()\n"
     ]
    }
   ],
   "source": [
    "from selenium import webdriver\n",
    "import selenium.webdriver.common.keys\n",
    "from selenium.webdriver.common.action_chains import ActionChains\n",
    "from bs4 import BeautifulSoup\n",
    "import pandas as pd\n",
    "import time\n",
    "from inputs import * #BINARY_LOCATION, CHROME_DRIVER_BINARY, USERNAME, PASSWORD\n",
    "\n",
    "from selenium.webdriver.support.ui import WebDriverWait\n",
    "from selenium.webdriver.common.by import By\n",
    "from selenium.webdriver.support import expected_conditions as EC\n",
    "\n",
    "# Tutorials:\n",
    "# https://www.edureka.co/blog/web-scraping-with-python/#whypython\n",
    "# https://www.scrapingbee.com/blog/selenium-python/\n",
    "\n",
    "# opening browser\n",
    "options = webdriver.ChromeOptions()\n",
    "chrome_driver_binary = \"/Users/jinseokoh/StockBot/chromedriver\"\n",
    "driver = webdriver.Chrome(chrome_driver_binary, chrome_options=options)\n",
    "driver.get('https://www.coinbase.com/')\n",
    "\n",
    "#defining click\n",
    "def click(xpath):\n",
    "    driver.find_element_by_xpath(xpath).click()\n",
    "\n",
    "#click sign in button\n",
    "sign_in = '//*[@id=\"root\"]/div[1]/header/div/div/div[2]/div[2]/span/span'\n",
    "click(sign_in)\n",
    "\n",
    "#enter email\n",
    "email = '/html/body/div[1]/div/div[1]/div/div/div/form/div[2]/div/div/span/input'\n",
    "email_string = \"@gmail.com\"\n",
    "WebDriverWait(driver, 20).until(EC.element_to_be_clickable((By.XPATH, email))).send_keys(email_string)\n",
    "\n",
    "#click continue\n",
    "continueB = '/html/body/div[1]/div/div[1]/div/div/div/form/div[5]/ul/li[1]/button'\n",
    "click(continueB)\n",
    "\n",
    "#enter password\n",
    "password = '/html/body/div[1]/div/div[1]/div/div/div[1]/form/div[4]/div/div/div/span/input'\n",
    "password_string = \"PASSWORD\"\n",
    "WebDriverWait(driver, 20).until(EC.element_to_be_clickable((By.XPATH, password))).send_keys(password_string)\n",
    "\n",
    "#click continue\n",
    "continueBP = '/html/body/div[1]/div/div[1]/div/div/div[1]/form/div[8]/button'\n",
    "click(continueBP)\n",
    "\n",
    "#sign in using the security code sent to iphone"
   ]
  },
  {
   "cell_type": "code",
   "execution_count": 8,
   "metadata": {},
   "outputs": [],
   "source": [
    "#open up new tab, now logged in\n",
    "driver.execute_script('''window.open(\"https://www.coinbase.com/home\",\"_blank\");''')"
   ]
  },
  {
   "cell_type": "code",
   "execution_count": 21,
   "metadata": {},
   "outputs": [],
   "source": [
    "#open up bitcoin tab\n",
    "driver.execute_script('''window.open(\"https://www.coinbase.com/advanced-trade/BTC-USD\",\"_blank\");''')"
   ]
  },
  {
   "cell_type": "code",
   "execution_count": 9,
   "metadata": {},
   "outputs": [],
   "source": [
    "#switch tabs, assign one tab for each coin and webscrape simultaneously\n",
    "driver.switch_to.window(driver.window_handles[1])"
   ]
  },
  {
   "cell_type": "code",
   "execution_count": 57,
   "metadata": {},
   "outputs": [
    {
     "name": "stderr",
     "output_type": "stream",
     "text": [
      "<ipython-input-20-d43c81dfa691>:25: DeprecationWarning: find_element_by_xpath is deprecated. Please use find_element(by=By.XPATH, value=xpath) instead\n",
      "  driver.find_element_by_xpath(xpath).click()\n"
     ]
    }
   ],
   "source": [
    "#click buy sell button on main page\n",
    "buy_sell_button = \"//button[@type='button' and @aria-label='Buy / Sell modal']\"\n",
    "click(buy_sell_button)"
   ]
  },
  {
   "cell_type": "code",
   "execution_count": 13,
   "metadata": {},
   "outputs": [
    {
     "name": "stderr",
     "output_type": "stream",
     "text": [
      "<ipython-input-13-2def7e120e94>:2: DeprecationWarning: find_elements_by_xpath is deprecated. Please use find_elements(by=By.XPATH, value=xpath) instead\n",
      "  buttons = driver.find_elements_by_xpath(\"//button\") #gets all the buttons\n"
     ]
    }
   ],
   "source": [
    "#click trade button\n",
    "buttons = driver.find_elements_by_xpath(\"//button\") #gets all the buttons\n",
    "i = 0\n",
    "for button in buttons:\n",
    "    if (i == 3):\n",
    "        button.click() #click the trade button\n",
    "    i = i + 1"
   ]
  },
  {
   "cell_type": "code",
   "execution_count": 36,
   "metadata": {},
   "outputs": [
    {
     "name": "stderr",
     "output_type": "stream",
     "text": [
      "<ipython-input-36-cfc7f9b0725d>:8: DeprecationWarning: find_elements_by_xpath is deprecated. Please use find_elements(by=By.XPATH, value=xpath) instead\n",
      "  buttons = driver.find_elements_by_xpath(\"//button\") #gets all the buttons\n"
     ]
    }
   ],
   "source": [
    "#MUST REVISE IF THE LAYOUT CHANGES, ANYTHING THAT CLICKS LOOPING THROUGH THE BUTTONS\n",
    "#sort 24 hour change from highest increase to lowest increase\n",
    "#click one more time it becomes lowest to highest increase\n",
    "#click trade button\n",
    "buttons = driver.find_elements_by_xpath(\"//button\") #gets all the buttons\n",
    "i = 0\n",
    "for button in buttons:\n",
    "    if (i == 13):\n",
    "        button.click() #click the 24h change button once\n",
    "    i = i + 1"
   ]
  },
  {
   "cell_type": "code",
   "execution_count": 37,
   "metadata": {},
   "outputs": [
    {
     "name": "stderr",
     "output_type": "stream",
     "text": [
      "<ipython-input-24-d43c81dfa691>:25: DeprecationWarning: find_element_by_xpath is deprecated. Please use find_element(by=By.XPATH, value=xpath) instead\n",
      "  driver.find_element_by_xpath(xpath).click()\n"
     ]
    }
   ],
   "source": [
    "#click search bar\n",
    "search_bar = '//*[@id=\"root\"]/div/div/div/div[1]/div/div[3]/div/div/div[2]/div[3]/div/div/div/div/div/div/div/div[1]/div/div/div[1]/div[1]/div/section/div/input'\n",
    "click(search_bar)"
   ]
  },
  {
   "cell_type": "code",
   "execution_count": 26,
   "metadata": {},
   "outputs": [
    {
     "name": "stdout",
     "output_type": "stream",
     "text": [
      "$22,434.75\n"
     ]
    }
   ],
   "source": [
    "#BITCOIN tab = 1\n",
    "#open up bitcoin tab\n",
    "driver.execute_script('''window.open(\"https://www.coinbase.com/advanced-trade/BTC-USD\",\"_blank\");''')\n",
    "#switch tabs, assign one tab for each coin and webscrape simultaneously\n",
    "driver.switch_to.window(driver.window_handles[1])\n",
    "\n",
    "#get the bitcoin price\n",
    "bitcoin_price = '/html/body/div[1]/div/div/div/div/div/div[3]/div/div/div[2]/nav[1]/div[1]/h1/div/div[2]/div[1]/div/span[1]'\n",
    "btc_price = WebDriverWait(driver, 20).until(EC.element_to_be_clickable((By.XPATH, bitcoin_price))).text\n",
    "# btc_price = driver.find_element_by_xpath(bitcoin_price).text\n",
    "print(btc_price)"
   ]
  },
  {
   "cell_type": "code",
   "execution_count": null,
   "metadata": {},
   "outputs": [],
   "source": [
    "#TO DO\n",
    "#Get the first ten stocks that increased or decreased a lot\n",
    "#collect prices and store it into a json string \n",
    "#link this notebook and webscrape the prices real time when calling an ocaml line of code for example"
   ]
  }
 ],
 "metadata": {
  "kernelspec": {
   "display_name": "Python 3",
   "language": "python",
   "name": "python3"
  },
  "language_info": {
   "codemirror_mode": {
    "name": "ipython",
    "version": 3
   },
   "file_extension": ".py",
   "mimetype": "text/x-python",
   "name": "python",
   "nbconvert_exporter": "python",
   "pygments_lexer": "ipython3",
   "version": "3.8.3"
  }
 },
 "nbformat": 4,
 "nbformat_minor": 4
}

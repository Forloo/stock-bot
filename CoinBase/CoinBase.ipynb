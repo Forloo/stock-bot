{
 "cells": [
  {
   "cell_type": "code",
   "execution_count": 52,
   "metadata": {},
   "outputs": [
    {
     "name": "stderr",
     "output_type": "stream",
     "text": [
      "<ipython-input-52-3b4436bebed0>:15: DeprecationWarning: executable_path has been deprecated, please pass in a Service object\n",
      "  driver = webdriver.Chrome(chrome_driver_binary, chrome_options=options)\n",
      "<ipython-input-52-3b4436bebed0>:15: DeprecationWarning: use options instead of chrome_options\n",
      "  driver = webdriver.Chrome(chrome_driver_binary, chrome_options=options)\n",
      "<ipython-input-52-3b4436bebed0>:19: DeprecationWarning: find_element_by_xpath is deprecated. Please use find_element(by=By.XPATH, value=xpath) instead\n",
      "  driver.find_element_by_xpath(xpath).click()\n"
     ]
    }
   ],
   "source": [
    "from selenium import webdriver\n",
    "from selenium.webdriver.common.action_chains import ActionChains\n",
    "from bs4 import BeautifulSoup\n",
    "import pandas as pd\n",
    "import time\n",
    "from inputs import * #BINARY_LOCATION, CHROME_DRIVER_BINARY, USERNAME, PASSWORD\n",
    "# Tutorials:\n",
    "# https://www.edureka.co/blog/web-scraping-with-python/#whypython\n",
    "# https://www.scrapingbee.com/blog/selenium-python/\n",
    "\n",
    "# opening browser\n",
    "options = webdriver.ChromeOptions()\n",
    "chrome_driver_binary = \"/Users/jinseokoh/StockBot/chromedriver\"\n",
    "driver = webdriver.Chrome(chrome_driver_binary, chrome_options=options)\n",
    "driver.get('https://www.coinbase.com/')\n",
    "\n",
    "#defining click\n",
    "def click(xpath):\n",
    "    driver.find_element_by_xpath(xpath).click()\n",
    "\n",
    "#click sign in button\n",
    "sign_in = '//*[@id=\"root\"]/div[1]/header/div/div/div[2]/div[2]/span/span'\n",
    "click(sign_in)\n",
    "\n",
    "#then log in manually"
   ]
  },
  {
   "cell_type": "code",
   "execution_count": 53,
   "metadata": {},
   "outputs": [
    {
     "name": "stderr",
     "output_type": "stream",
     "text": [
      "<ipython-input-52-3b4436bebed0>:19: DeprecationWarning: find_element_by_xpath is deprecated. Please use find_element(by=By.XPATH, value=xpath) instead\n",
      "  driver.find_element_by_xpath(xpath).click()\n"
     ]
    }
   ],
   "source": [
    "#click trade button\n",
    "trade_button = '/html/body/div[1]/div/div/div/div/div/div[3]/div/div/div[1]/div/nav/div/nav/div[2]/a[3]/div/div/button'\n",
    "click(trade_button)\n",
    "\n",
    "#get list of coins\n",
    "#get each information of the coins\n",
    "#create a json file out of the information webscraped\n",
    "#code in ocaml or any language desired to impelement the algorithm"
   ]
  }
 ],
 "metadata": {
  "kernelspec": {
   "display_name": "Python 3",
   "language": "python",
   "name": "python3"
  },
  "language_info": {
   "codemirror_mode": {
    "name": "ipython",
    "version": 3
   },
   "file_extension": ".py",
   "mimetype": "text/x-python",
   "name": "python",
   "nbconvert_exporter": "python",
   "pygments_lexer": "ipython3",
   "version": "3.8.3"
  }
 },
 "nbformat": 4,
 "nbformat_minor": 4
}

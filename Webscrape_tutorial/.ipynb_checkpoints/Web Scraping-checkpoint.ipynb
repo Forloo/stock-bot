{
 "cells": [
  {
   "cell_type": "code",
   "execution_count": 29,
   "metadata": {},
   "outputs": [],
   "source": [
    "from selenium import webdriver\n",
    "from selenium.webdriver.common.action_chains import ActionChains\n",
    "from bs4 import BeautifulSoup\n",
    "import pandas as pd\n",
    "import time\n",
    "from inputs import * #BINARY_LOCATION, CHROME_DRIVER_BINARY, USERNAME, PASSWORD\n",
    "# Tutorials:\n",
    "# https://www.edureka.co/blog/web-scraping-with-python/#whypython\n",
    "# https://www.scrapingbee.com/blog/selenium-python/"
   ]
  },
  {
   "cell_type": "code",
   "execution_count": 30,
   "metadata": {},
   "outputs": [
    {
     "name": "stderr",
     "output_type": "stream",
     "text": [
      "C:\\ProgramData\\Anaconda3\\lib\\site-packages\\ipykernel_launcher.py:5: DeprecationWarning: use options instead of chrome_options\n",
      "  \"\"\"\n"
     ]
    }
   ],
   "source": [
    "# opening browser\n",
    "options = webdriver.ChromeOptions()\n",
    "#options.binary_location = BINARY_LOCATION\n",
    "chrome_driver_binary = CHROME_DRIVER_BINARY\n",
    "driver = webdriver.Chrome(chrome_driver_binary, chrome_options=options)\n",
    "driver.get('https://www.goodreads.com/')"
   ]
  },
  {
   "cell_type": "code",
   "execution_count": 31,
   "metadata": {},
   "outputs": [],
   "source": [
    "def click(xpath):\n",
    "    driver.find_element_by_xpath(xpath).click()"
   ]
  },
  {
   "cell_type": "code",
   "execution_count": 4,
   "metadata": {},
   "outputs": [],
   "source": [
    "# logging in\n",
    "sign_in_new = '//*[@id=\"signIn\"]/div/div/a'\n",
    "click(sign_in_new)\n",
    "user_sign_in_xpath = '/html/body/div[1]/div[1]/div[2]/div/div/div/div[2]/form/fieldset/div[1]/input'\n",
    "user_sign_in_pw_xpath = '//*[@id=\"user_password\"]'\n",
    "# driver.find_element_by_id(\"userSignInFormEmail\").send_keys(USERNAME)\n",
    "# driver.find_element_by_id(\"user_password\").send_keys(PASSWORD)\n",
    "driver.find_element_by_xpath(user_sign_in_xpath).send_keys(USERNAME)\n",
    "driver.find_element_by_xpath(user_sign_in_pw_xpath).send_keys(PASSWORD)\n",
    "# sign_in = '//*[@id=\"sign_in\"]/div[3]/input[1]'\n",
    "sign_in_again = '/html/body/div[1]/div[1]/div[2]/div/div/div/div[2]/form/fieldset/div[5]/input'\n",
    "click(sign_in_again)\n"
   ]
  },
  {
   "cell_type": "code",
   "execution_count": 73,
   "metadata": {},
   "outputs": [],
   "source": [
    "# s = 'body > div.siteHeader > div > header > div.headroom-wrapper > div > nav > ul > li:nth-child(3) > div > a'\n",
    "\n",
    "# b = '/html/body/div[2]/div/header/div[2]/div/nav/ul/li[3]/div/a/span'\n",
    "# driver.find_element_by_css_selector(s).click()\n",
    "# select = Select(driver.find_element_by_xpath(b))\n",
    "\n",
    "# # select by visible text\n",
    "# select.select_by_visible_text('Lists')\n",
    "\n",
    "# # select by value \n",
    "# select.select_by_value('1')"
   ]
  },
  {
   "cell_type": "code",
   "execution_count": 74,
   "metadata": {},
   "outputs": [],
   "source": [
    "\n",
    "# click(b)\n",
    "# /html/body/div[2]/div/header/div[2]/div/nav/ul/li[3]/div/a\n",
    "# /html/body/div[2]/div/header/div[2]/div/nav/ul/li[3]/div/div\n",
    "# WebDriverWait wait2 = new WebDriverWait(driver, 10);\n",
    "# wait2.until(ExpectedConditions.invisibilityOfElementLocated(By.xpath(b)));\n",
    "# driver.findElement(By.xpath(b)).click();\n",
    "# body > div.siteHeader > div > header > div.headroom-wrapper > div > nav > ul > li:nth-child(3) > div > a"
   ]
  },
  {
   "cell_type": "code",
   "execution_count": 40,
   "metadata": {},
   "outputs": [],
   "source": [
    "# getting lists\n",
    "browse_path = '/html/body/div[2]/div/header/div[2]/div/nav/ul/li[3]/div/a'\n",
    "click(browse_path)\n",
    "\n",
    "# (assuming browse works, these work - browse doesn't work rn)\n",
    "lists = '/html/body/div[2]/div/header/div[2]/div/nav/ul/li[3]/div/div/div/ul/li[6]/a'\n",
    "click(lists)\n",
    "more = '/html/body/div[2]/div[3]/div[1]/div[1]/div[4]/div[3]/div[2]/div/a'\n",
    "click(more)\n",
    "the_year_2020 = '/html/body/div[1]/div[3]/div[1]/div[1]/div[2]/div[2]/a[2]'\n",
    "click(the_year_2020)\n"
   ]
  },
  {
   "cell_type": "code",
   "execution_count": 3,
   "metadata": {},
   "outputs": [],
   "source": [
    "# import Actions\n",
    "# list_path = '/html/body/div[2]/div/header/div[2]/div/nav/ul/li[3]/div/div/div/ul/li[6]/a'\n",
    "# driver.find_element_by_xpath(list_path).perform()\n",
    "# click(list_path)\n",
    "# driver.find_element_by_xpath\n",
    "# element_to_hover_over = driver.find_element_by_xpath(browse_path)\n",
    "# hover = ActionChains(driver).move_to_element(element_to_hover_over)\n",
    "# hover.perform()\n",
    "\n",
    "# first_list = '//*[@id=\"review_856658582\"]/td[4]/div'\n",
    "# click(first_list)\n",
    "# readers_also_enjoyed_one = '//*[@id=\"bookCover_29056083\"]'\n",
    "# click(readers_also_enjoyed_one)"
   ]
  },
  {
   "cell_type": "code",
   "execution_count": 5,
   "metadata": {},
   "outputs": [],
   "source": [
    "# get similar books\n",
    "click_order = []\n",
    "my_books = '/html/body/div[2]/div/header/div[3]/div/nav/ul/li[2]/a'\n",
    "read = '//*[@id=\"paginatedShelfList\"]/div[1]/a'\n",
    "see_similar_books = '//*[@id=\"relatedWorks-2963218\"]/div/div[2]/div/a'\n",
    "list_similar = '/html/body/div[4]/div/div[3]/div[1]/div[3]/div/div'\n",
    "click_order.append(my_books)\n",
    "click_order.append(read)\n",
    "click_order.append(see_similar_books)\n",
    "click_order.append(list_similar)\n",
    "for clickon in click_order:\n",
    "    cick(clickon)"
   ]
  },
  {
   "cell_type": "code",
   "execution_count": 33,
   "metadata": {},
   "outputs": [
    {
     "name": "stdout",
     "output_type": "stream",
     "text": [
      "fail\n",
      "fail\n",
      "fail\n",
      "[]\n"
     ]
    }
   ],
   "source": [
    "sim_books = []\n",
    "# get the top 5 similar books\n",
    "for i in range(1, 6):\n",
    "    try:\n",
    "        click(list_similar + '/div[' + str(i) + ']/div/div/div[2]/a/span')\n",
    "        driver.back()\n",
    "    except:\n",
    "        print('fail')\n",
    "print(sim_books)"
   ]
  },
  {
   "cell_type": "code",
   "execution_count": null,
   "metadata": {},
   "outputs": [],
   "source": [
    "# /html/body/div[4]/div/div[3]/div[1]/div[3]/div/div/div[1]/div/div/div[2]/a"
   ]
  },
  {
   "cell_type": "code",
   "execution_count": null,
   "metadata": {},
   "outputs": [],
   "source": [
    "# /html/body/div[4]/div/div[3]/div[1]/div[3]/div/div/div[1]/div/div/div[2]/a/span\n",
    "# print()"
   ]
  },
  {
   "cell_type": "code",
   "execution_count": 6,
   "metadata": {},
   "outputs": [
    {
     "name": "stderr",
     "output_type": "stream",
     "text": [
      "C:\\ProgramData\\Anaconda3\\lib\\site-packages\\ipykernel_launcher.py:22: DeprecationWarning: use options instead of chrome_options\n"
     ]
    },
    {
     "name": "stdout",
     "output_type": "stream",
     "text": [
      "range loop\n"
     ]
    },
    {
     "ename": "NoSuchElementException",
     "evalue": "Message: no such element: Unable to locate element: {\"method\":\"xpath\",\"selector\":\"/html/body/div[2]/div[3]/div[1]/div[2]/div[2]/div[3]/div[5]/div[2]/div/div[1]/div[2]/div[3]\"}\n  (Session info: chrome=90.0.4430.93)\n",
     "output_type": "error",
     "traceback": [
      "\u001b[1;31m---------------------------------------------------------------------------\u001b[0m",
      "\u001b[1;31mNoSuchElementException\u001b[0m                    Traceback (most recent call last)",
      "\u001b[1;32m<ipython-input-6-2b19e62a1e8b>\u001b[0m in \u001b[0;36m<module>\u001b[1;34m\u001b[0m\n\u001b[0;32m     95\u001b[0m     \u001b[1;31m# bookDataBox = driver.find_element_by_id('bookDataBox')\u001b[0m\u001b[1;33m\u001b[0m\u001b[1;33m\u001b[0m\u001b[1;33m\u001b[0m\u001b[0m\n\u001b[0;32m     96\u001b[0m     \u001b[1;31m# print(bookDataBox)\u001b[0m\u001b[1;33m\u001b[0m\u001b[1;33m\u001b[0m\u001b[1;33m\u001b[0m\u001b[0m\n\u001b[1;32m---> 97\u001b[1;33m     \u001b[0mtitle\u001b[0m\u001b[1;33m,\u001b[0m\u001b[0mauthor\u001b[0m\u001b[1;33m,\u001b[0m\u001b[0mrating\u001b[0m\u001b[1;33m,\u001b[0m\u001b[0mnumratings\u001b[0m\u001b[1;33m,\u001b[0m\u001b[0mnumreviews\u001b[0m \u001b[1;33m=\u001b[0m \u001b[0mgetInfo\u001b[0m\u001b[1;33m(\u001b[0m\u001b[1;33m)\u001b[0m\u001b[1;33m\u001b[0m\u001b[1;33m\u001b[0m\u001b[0m\n\u001b[0m\u001b[0;32m     98\u001b[0m     \u001b[0mprint\u001b[0m\u001b[1;33m(\u001b[0m\u001b[0mtitle\u001b[0m\u001b[1;33m,\u001b[0m \u001b[0mauthor\u001b[0m\u001b[1;33m,\u001b[0m\u001b[0mrating\u001b[0m\u001b[1;33m,\u001b[0m\u001b[0mnumratings\u001b[0m\u001b[1;33m,\u001b[0m\u001b[0mnumreviews\u001b[0m\u001b[1;33m)\u001b[0m\u001b[1;33m\u001b[0m\u001b[1;33m\u001b[0m\u001b[0m\n\u001b[0;32m     99\u001b[0m     \u001b[0mbook_data\u001b[0m\u001b[1;33m[\u001b[0m\u001b[0mauthor\u001b[0m\u001b[1;33m]\u001b[0m\u001b[1;33m[\u001b[0m\u001b[0mtitle\u001b[0m\u001b[1;33m]\u001b[0m\u001b[1;33m.\u001b[0m\u001b[0mappend\u001b[0m\u001b[1;33m(\u001b[0m\u001b[1;33m(\u001b[0m\u001b[0mrating\u001b[0m\u001b[1;33m,\u001b[0m\u001b[0mnumratings\u001b[0m\u001b[1;33m,\u001b[0m\u001b[0mnumreviews\u001b[0m\u001b[1;33m)\u001b[0m\u001b[1;33m)\u001b[0m\u001b[1;33m\u001b[0m\u001b[1;33m\u001b[0m\u001b[0m\n",
      "\u001b[1;32m<ipython-input-6-2b19e62a1e8b>\u001b[0m in \u001b[0;36mgetInfo\u001b[1;34m()\u001b[0m\n\u001b[0;32m     41\u001b[0m \u001b[1;31m#     '/html/body/div[2]/div[3]/div[1]/div[2]/div[2]/div[4]/div[6]/div[2]/div/div[1]/div[2]/div[3]'\u001b[0m\u001b[1;33m\u001b[0m\u001b[1;33m\u001b[0m\u001b[1;33m\u001b[0m\u001b[0m\n\u001b[0;32m     42\u001b[0m \u001b[1;33m\u001b[0m\u001b[0m\n\u001b[1;32m---> 43\u001b[1;33m     \u001b[0mmetainfo\u001b[0m \u001b[1;33m=\u001b[0m \u001b[0mdriver\u001b[0m\u001b[1;33m.\u001b[0m\u001b[0mfind_element_by_xpath\u001b[0m\u001b[1;33m(\u001b[0m\u001b[1;34m'/html/body/div[2]/div[3]/div[1]/div[2]/div[2]/div[3]/div[5]/div[2]/div/div[1]/div[2]/div[3]'\u001b[0m\u001b[1;33m)\u001b[0m\u001b[1;33m.\u001b[0m\u001b[0mtext\u001b[0m\u001b[1;33m\u001b[0m\u001b[1;33m\u001b[0m\u001b[0m\n\u001b[0m\u001b[0;32m     44\u001b[0m     \u001b[0mmetainfo\u001b[0m \u001b[1;33m=\u001b[0m \u001b[0mmetainfo\u001b[0m\u001b[1;33m.\u001b[0m\u001b[0msplit\u001b[0m\u001b[1;33m(\u001b[0m\u001b[1;34m'·'\u001b[0m\u001b[1;33m)\u001b[0m\u001b[1;33m\u001b[0m\u001b[1;33m\u001b[0m\u001b[0m\n\u001b[0;32m     45\u001b[0m     \u001b[0mnumratings\u001b[0m\u001b[1;33m,\u001b[0m\u001b[0mnumreviews\u001b[0m \u001b[1;33m=\u001b[0m \u001b[1;33m[\u001b[0m\u001b[0mmetainfo\u001b[0m\u001b[1;33m[\u001b[0m\u001b[1;36m1\u001b[0m\u001b[1;33m]\u001b[0m\u001b[1;33m.\u001b[0m\u001b[0mstrip\u001b[0m\u001b[1;33m(\u001b[0m\u001b[1;34m' '\u001b[0m\u001b[1;33m)\u001b[0m\u001b[1;33m.\u001b[0m\u001b[0msplit\u001b[0m\u001b[1;33m(\u001b[0m\u001b[1;34m' '\u001b[0m\u001b[1;33m)\u001b[0m\u001b[1;33m[\u001b[0m\u001b[1;36m0\u001b[0m\u001b[1;33m]\u001b[0m\u001b[1;33m,\u001b[0m \u001b[0mmetainfo\u001b[0m\u001b[1;33m[\u001b[0m\u001b[1;33m-\u001b[0m\u001b[1;36m1\u001b[0m\u001b[1;33m]\u001b[0m\u001b[1;33m.\u001b[0m\u001b[0mstrip\u001b[0m\u001b[1;33m(\u001b[0m\u001b[1;34m' '\u001b[0m\u001b[1;33m)\u001b[0m\u001b[1;33m.\u001b[0m\u001b[0msplit\u001b[0m\u001b[1;33m(\u001b[0m\u001b[1;34m' '\u001b[0m\u001b[1;33m)\u001b[0m\u001b[1;33m[\u001b[0m\u001b[1;36m0\u001b[0m\u001b[1;33m]\u001b[0m\u001b[1;33m]\u001b[0m\u001b[1;33m\u001b[0m\u001b[1;33m\u001b[0m\u001b[0m\n",
      "\u001b[1;32mC:\\ProgramData\\Anaconda3\\lib\\site-packages\\selenium\\webdriver\\remote\\webdriver.py\u001b[0m in \u001b[0;36mfind_element_by_xpath\u001b[1;34m(self, xpath)\u001b[0m\n\u001b[0;32m    392\u001b[0m             \u001b[0melement\u001b[0m \u001b[1;33m=\u001b[0m \u001b[0mdriver\u001b[0m\u001b[1;33m.\u001b[0m\u001b[0mfind_element_by_xpath\u001b[0m\u001b[1;33m(\u001b[0m\u001b[1;34m'//div/td[1]'\u001b[0m\u001b[1;33m)\u001b[0m\u001b[1;33m\u001b[0m\u001b[1;33m\u001b[0m\u001b[0m\n\u001b[0;32m    393\u001b[0m         \"\"\"\n\u001b[1;32m--> 394\u001b[1;33m         \u001b[1;32mreturn\u001b[0m \u001b[0mself\u001b[0m\u001b[1;33m.\u001b[0m\u001b[0mfind_element\u001b[0m\u001b[1;33m(\u001b[0m\u001b[0mby\u001b[0m\u001b[1;33m=\u001b[0m\u001b[0mBy\u001b[0m\u001b[1;33m.\u001b[0m\u001b[0mXPATH\u001b[0m\u001b[1;33m,\u001b[0m \u001b[0mvalue\u001b[0m\u001b[1;33m=\u001b[0m\u001b[0mxpath\u001b[0m\u001b[1;33m)\u001b[0m\u001b[1;33m\u001b[0m\u001b[1;33m\u001b[0m\u001b[0m\n\u001b[0m\u001b[0;32m    395\u001b[0m \u001b[1;33m\u001b[0m\u001b[0m\n\u001b[0;32m    396\u001b[0m     \u001b[1;32mdef\u001b[0m \u001b[0mfind_elements_by_xpath\u001b[0m\u001b[1;33m(\u001b[0m\u001b[0mself\u001b[0m\u001b[1;33m,\u001b[0m \u001b[0mxpath\u001b[0m\u001b[1;33m)\u001b[0m\u001b[1;33m:\u001b[0m\u001b[1;33m\u001b[0m\u001b[1;33m\u001b[0m\u001b[0m\n",
      "\u001b[1;32mC:\\ProgramData\\Anaconda3\\lib\\site-packages\\selenium\\webdriver\\remote\\webdriver.py\u001b[0m in \u001b[0;36mfind_element\u001b[1;34m(self, by, value)\u001b[0m\n\u001b[0;32m    976\u001b[0m         return self.execute(Command.FIND_ELEMENT, {\n\u001b[0;32m    977\u001b[0m             \u001b[1;34m'using'\u001b[0m\u001b[1;33m:\u001b[0m \u001b[0mby\u001b[0m\u001b[1;33m,\u001b[0m\u001b[1;33m\u001b[0m\u001b[1;33m\u001b[0m\u001b[0m\n\u001b[1;32m--> 978\u001b[1;33m             'value': value})['value']\n\u001b[0m\u001b[0;32m    979\u001b[0m \u001b[1;33m\u001b[0m\u001b[0m\n\u001b[0;32m    980\u001b[0m     \u001b[1;32mdef\u001b[0m \u001b[0mfind_elements\u001b[0m\u001b[1;33m(\u001b[0m\u001b[0mself\u001b[0m\u001b[1;33m,\u001b[0m \u001b[0mby\u001b[0m\u001b[1;33m=\u001b[0m\u001b[0mBy\u001b[0m\u001b[1;33m.\u001b[0m\u001b[0mID\u001b[0m\u001b[1;33m,\u001b[0m \u001b[0mvalue\u001b[0m\u001b[1;33m=\u001b[0m\u001b[1;32mNone\u001b[0m\u001b[1;33m)\u001b[0m\u001b[1;33m:\u001b[0m\u001b[1;33m\u001b[0m\u001b[1;33m\u001b[0m\u001b[0m\n",
      "\u001b[1;32mC:\\ProgramData\\Anaconda3\\lib\\site-packages\\selenium\\webdriver\\remote\\webdriver.py\u001b[0m in \u001b[0;36mexecute\u001b[1;34m(self, driver_command, params)\u001b[0m\n\u001b[0;32m    319\u001b[0m         \u001b[0mresponse\u001b[0m \u001b[1;33m=\u001b[0m \u001b[0mself\u001b[0m\u001b[1;33m.\u001b[0m\u001b[0mcommand_executor\u001b[0m\u001b[1;33m.\u001b[0m\u001b[0mexecute\u001b[0m\u001b[1;33m(\u001b[0m\u001b[0mdriver_command\u001b[0m\u001b[1;33m,\u001b[0m \u001b[0mparams\u001b[0m\u001b[1;33m)\u001b[0m\u001b[1;33m\u001b[0m\u001b[1;33m\u001b[0m\u001b[0m\n\u001b[0;32m    320\u001b[0m         \u001b[1;32mif\u001b[0m \u001b[0mresponse\u001b[0m\u001b[1;33m:\u001b[0m\u001b[1;33m\u001b[0m\u001b[1;33m\u001b[0m\u001b[0m\n\u001b[1;32m--> 321\u001b[1;33m             \u001b[0mself\u001b[0m\u001b[1;33m.\u001b[0m\u001b[0merror_handler\u001b[0m\u001b[1;33m.\u001b[0m\u001b[0mcheck_response\u001b[0m\u001b[1;33m(\u001b[0m\u001b[0mresponse\u001b[0m\u001b[1;33m)\u001b[0m\u001b[1;33m\u001b[0m\u001b[1;33m\u001b[0m\u001b[0m\n\u001b[0m\u001b[0;32m    322\u001b[0m             response['value'] = self._unwrap_value(\n\u001b[0;32m    323\u001b[0m                 response.get('value', None))\n",
      "\u001b[1;32mC:\\ProgramData\\Anaconda3\\lib\\site-packages\\selenium\\webdriver\\remote\\errorhandler.py\u001b[0m in \u001b[0;36mcheck_response\u001b[1;34m(self, response)\u001b[0m\n\u001b[0;32m    240\u001b[0m                 \u001b[0malert_text\u001b[0m \u001b[1;33m=\u001b[0m \u001b[0mvalue\u001b[0m\u001b[1;33m[\u001b[0m\u001b[1;34m'alert'\u001b[0m\u001b[1;33m]\u001b[0m\u001b[1;33m.\u001b[0m\u001b[0mget\u001b[0m\u001b[1;33m(\u001b[0m\u001b[1;34m'text'\u001b[0m\u001b[1;33m)\u001b[0m\u001b[1;33m\u001b[0m\u001b[1;33m\u001b[0m\u001b[0m\n\u001b[0;32m    241\u001b[0m             \u001b[1;32mraise\u001b[0m \u001b[0mexception_class\u001b[0m\u001b[1;33m(\u001b[0m\u001b[0mmessage\u001b[0m\u001b[1;33m,\u001b[0m \u001b[0mscreen\u001b[0m\u001b[1;33m,\u001b[0m \u001b[0mstacktrace\u001b[0m\u001b[1;33m,\u001b[0m \u001b[0malert_text\u001b[0m\u001b[1;33m)\u001b[0m\u001b[1;33m\u001b[0m\u001b[1;33m\u001b[0m\u001b[0m\n\u001b[1;32m--> 242\u001b[1;33m         \u001b[1;32mraise\u001b[0m \u001b[0mexception_class\u001b[0m\u001b[1;33m(\u001b[0m\u001b[0mmessage\u001b[0m\u001b[1;33m,\u001b[0m \u001b[0mscreen\u001b[0m\u001b[1;33m,\u001b[0m \u001b[0mstacktrace\u001b[0m\u001b[1;33m)\u001b[0m\u001b[1;33m\u001b[0m\u001b[1;33m\u001b[0m\u001b[0m\n\u001b[0m\u001b[0;32m    243\u001b[0m \u001b[1;33m\u001b[0m\u001b[0m\n\u001b[0;32m    244\u001b[0m     \u001b[1;32mdef\u001b[0m \u001b[0m_value_or_default\u001b[0m\u001b[1;33m(\u001b[0m\u001b[0mself\u001b[0m\u001b[1;33m,\u001b[0m \u001b[0mobj\u001b[0m\u001b[1;33m,\u001b[0m \u001b[0mkey\u001b[0m\u001b[1;33m,\u001b[0m \u001b[0mdefault\u001b[0m\u001b[1;33m)\u001b[0m\u001b[1;33m:\u001b[0m\u001b[1;33m\u001b[0m\u001b[1;33m\u001b[0m\u001b[0m\n",
      "\u001b[1;31mNoSuchElementException\u001b[0m: Message: no such element: Unable to locate element: {\"method\":\"xpath\",\"selector\":\"/html/body/div[2]/div[3]/div[1]/div[2]/div[2]/div[3]/div[5]/div[2]/div/div[1]/div[2]/div[3]\"}\n  (Session info: chrome=90.0.4430.93)\n"
     ]
    }
   ],
   "source": [
    "from selenium import webdriver\n",
    "from selenium.webdriver.common.action_chains import ActionChains\n",
    "from bs4 import BeautifulSoup\n",
    "import pandas as pd\n",
    "import time\n",
    "from collections import defaultdict\n",
    "from inputs import * #BINARY_LOCATION, CHROME_DRIVER_BINARY, USERNAME, PASSWORD\n",
    "# import sys\n",
    "# stdout = sys.stdout\n",
    "# reload(sys)\n",
    "# sys.setdefaultencoding('utf-8')\n",
    "# sys.stdout = stdout\n",
    "\n",
    "# Tutorials:\n",
    "# https://www.edureka.co/blog/web-scraping-with-python/#whypython\n",
    "# https://www.scrapingbee.com/blog/selenium-python/\n",
    "\n",
    "# opening browser\n",
    "options = webdriver.ChromeOptions()\n",
    "#options.binary_location = BINARY_LOCATION\n",
    "chrome_driver_binary = CHROME_DRIVER_BINARY\n",
    "driver = webdriver.Chrome(chrome_driver_binary, chrome_options=options)\n",
    "driver.get('https://www.goodreads.com/')\n",
    "\n",
    "def click(xpath):\n",
    "    driver.find_element_by_xpath(xpath).click()\n",
    "\n",
    "def getText(xpath):\n",
    "    driver.find_element_by_xpath(xpath).getText()\n",
    "\n",
    "def getInfo():\n",
    "#     infoBox = '/html/body/div[2]/div[3]/div[1]/div[2]/div[2]/div[1]/div[2]/div[5]/div[3]/div[1]/div[2]/div[2]'\n",
    "#     isbn = driver.find_element_by_xpath(infoBox).text\n",
    "#     isbn10 = isbn[: isbn.find(\" \")]\n",
    "#     #/html/body/div[2]/div[3]/div[1]/div[2]/div[2]/div[1]/div[2]/div[5]/div[3]/div[1]/div[1]/div[2]\n",
    "#     title = driver.find_element_by_xpath('html/body/div[2]/div[3]/div[1]/div[2]/div[2]/div[1]/div[2]/div[5]/div[3]/div[1]/div[1]/div[2]').text\n",
    "#     return isbn10,title\n",
    "    title = driver.find_element_by_id('bookTitle').text\n",
    "    author = driver.find_element_by_id('bookAuthors').text\n",
    "    rating =  driver.find_element_by_xpath('/html/body/div[2]/div[3]/div[1]/div[2]/div[2]/div[1]/div[2]/div[2]/span[2]').text\n",
    "#     '/html/body/div[2]/div[3]/div[1]/div[2]/div[2]/div[4]/div[6]/div[2]/div/div[1]/div[2]/div[3]'\n",
    "\n",
    "    metainfo = driver.find_element_by_xpath('/html/body/div[2]/div[3]/div[1]/div[2]/div[2]/div[3]/div[5]/div[2]/div/div[1]/div[2]/div[3]').text\n",
    "    metainfo = metainfo.split('·')\n",
    "    numratings,numreviews = [metainfo[1].strip(' ').split(' ')[0], metainfo[-1].strip(' ').split(' ')[0]]\n",
    "    return title,author,rating,numratings,numreviews\n",
    "    \n",
    "\n",
    "\n",
    "# logging in\n",
    "sign_in_new = '//*[@id=\"signIn\"]/div/div/a'\n",
    "click(sign_in_new)\n",
    "user_sign_in_xpath = '/html/body/div[1]/div[1]/div[2]/div/div/div/div[2]/form/fieldset/div[1]/input'\n",
    "user_sign_in_pw_xpath = '//*[@id=\"user_password\"]'\n",
    "# driver.find_element_by_id(\"userSignInFormEmail\").send_keys(USERNAME)\n",
    "# driver.find_element_by_id(\"user_password\").send_keys(PASSWORD)\n",
    "driver.find_element_by_xpath(user_sign_in_xpath).send_keys(USERNAME)\n",
    "driver.find_element_by_xpath(user_sign_in_pw_xpath).send_keys(PASSWORD)\n",
    "# sign_in = '//*[@id=\"sign_in\"]/div[3]/input[1]'\n",
    "sign_in_again = '/html/body/div[1]/div[1]/div[2]/div/div/div/div[2]/form/fieldset/div[5]/input'\n",
    "click(sign_in_again)\n",
    "time.sleep(5)\n",
    "\n",
    "# getting lists\n",
    "browse_path = '/html/body/div[2]/div/header/div[2]/div/nav/ul/li[3]/div/a' \n",
    "# browse_path = '//*[@id=\"gcaLanding\"]/div[2]/div[1]/div/header/div[1]/div/nav/ul/li[3]/div'\n",
    "click(browse_path)\n",
    "\n",
    "# (assuming browse works, these work - browse doesn't work rn)\n",
    "lists = '/html/body/div[2]/div/header/div[2]/div/nav/ul/li[3]/div/div/div/ul/li[6]/a'\n",
    "click(lists)\n",
    "more = '/html/body/div[2]/div[3]/div[1]/div[1]/div[4]/div[3]/div[2]/div/a'\n",
    "click(more)\n",
    "time.sleep(3)\n",
    "the_year_2020 = '/html/body/div[1]/div[3]/div[1]/div[1]/div[2]/div[2]/a[2]'\n",
    "click(the_year_2020)\n",
    "\n",
    "# /html/body/div[2]/div[3]/div[1]/div[2]/div[3]/div[5]/table/tbody/tr[1]\n",
    "# /html/body/div[2]/div[3]/div[1]/div[2]/div[3]/div[5]/table/tbody/tr[2]/td[3]/a/span\n",
    "\n",
    "# more detail xpath\n",
    "# /html/body/div[2]/div[3]/div[1]/div[2]/div[2]/div[1]/div[2]/div[5]/div[3]/a[1]\n",
    "# more detail html\n",
    "# \n",
    "print(\"range loop\")\n",
    "book_data = defaultdict(lambda: defaultdict(list))\n",
    "\n",
    "for i in range(1,3):\n",
    "    time.sleep(3)\n",
    "    goingThroughBooks = '/html/body/div[2]/div[3]/div[1]/div[2]/div[3]/div[5]/table/tbody/tr[' + str(i) + ']/td[3]/a/span'\n",
    "    click(goingThroughBooks)\n",
    "    if(i==1):\n",
    "        moreDetails = '/html/body/div[2]/div[3]/div[1]/div[2]/div[2]/div[1]/div[2]/div[5]/div[3]/a[1]'\n",
    "        click(moreDetails)\n",
    "    # bookDataBox = driver.find_element_by_id('bookDataBox')\n",
    "    # print(bookDataBox)\n",
    "    title,author,rating,numratings,numreviews = getInfo()    \n",
    "    print(title, author,rating,numratings,numreviews)\n",
    "    book_data[author][title].append((rating,numratings,numreviews))\n",
    "    # print(isbnText)\n",
    "    driver.back()\n",
    "print(book_data)\n",
    "# # get similar books\n",
    "# click_order = []\n",
    "# my_books = '/html/body/div[2]/div/header/div[3]/div/nav/ul/li[2]/a'\n",
    "# read = '//*[@id=\"paginatedShelfList\"]/div[1]/a'\n",
    "# see_similar_books = '//*[@id=\"relatedWorks-2963218\"]/div/div[2]/div/a'\n",
    "# list_similar = '/html/body/div[4]/div/div[3]/div[1]/div[3]/div/div'\n",
    "# click_order.append(my_books)\n",
    "# click_order.append(read)\n",
    "# click_order.append(see_similar_books)\n",
    "# click_order.append(list_similar)\n",
    "# for clickon in click_order:\n",
    "#     cick(clickon)"
   ]
  },
  {
   "cell_type": "code",
   "execution_count": 8,
   "metadata": {},
   "outputs": [
    {
     "name": "stdout",
     "output_type": "stream",
     "text": [
      " ·  135,238 ratings  ·  20,762 reviews\n"
     ]
    }
   ],
   "source": [
    "metainfo = driver.find_element_by_xpath('/html/body/div[2]/div[3]/div[1]/div[2]/div[2]/div[3]/div[5]/div[2]/div/div[1]/div[2]/div[3]').text\n",
    "print(type(metainfo))\n",
    "print(metainfo)"
   ]
  },
  {
   "cell_type": "code",
   "execution_count": 26,
   "metadata": {},
   "outputs": [
    {
     "output_type": "stream",
     "name": "stderr",
     "text": [
      "ipykernel_launcher:22: DeprecationWarning: use options instead of chrome_options\n",
      "range loop\n",
      "House of Earth and Blood by Sarah J. Maas (Goodreads Author) 4.43 135,400 20,785\n",
      "Something went wrong\n",
      "Something went wrong\n",
      "defaultdict(<function <lambda> at 0x00000178AB9780D8>, {'by Sarah J. Maas (Goodreads Author)': defaultdict(<class 'list'>, {'House of Earth and Blood': [('4.43', '135,400', '20,785')]})})\n",
      "defaultdict(<function <lambda> at 0x00000178AC1CF828>, {})\n"
     ]
    }
   ],
   "source": [
    "from selenium import webdriver\n",
    "from selenium.webdriver.common.action_chains import ActionChains\n",
    "from bs4 import BeautifulSoup\n",
    "import pandas as pd\n",
    "import time\n",
    "from collections import defaultdict\n",
    "from inputs import * #BINARY_LOCATION, CHROME_DRIVER_BINARY, USERNAME, PASSWORD\n",
    "# import sys\n",
    "# stdout = sys.stdout\n",
    "# reload(sys)\n",
    "# sys.setdefaultencoding('utf-8')\n",
    "# sys.stdout = stdout\n",
    "\n",
    "# Tutorials:\n",
    "# https://www.edureka.co/blog/web-scraping-with-python/#whypython\n",
    "# https://www.scrapingbee.com/blog/selenium-python/\n",
    "\n",
    "# opening browser\n",
    "options = webdriver.ChromeOptions()\n",
    "#options.binary_location = BINARY_LOCATION\n",
    "chrome_driver_binary = CHROME_DRIVER_BINARY\n",
    "driver = webdriver.Chrome(chrome_driver_binary, chrome_options=options)\n",
    "driver.get('https://www.goodreads.com/')\n",
    "\n",
    "def click(xpath):\n",
    "    driver.find_element_by_xpath(xpath).click()\n",
    "\n",
    "def getText(xpath):\n",
    "    driver.find_element_by_xpath(xpath).getText()\n",
    "\n",
    "def getInfo():\n",
    "#     infoBox = '/html/body/div[2]/div[3]/div[1]/div[2]/div[2]/div[1]/div[2]/div[5]/div[3]/div[1]/div[2]/div[2]'\n",
    "#     isbn = driver.find_element_by_xpath(infoBox).text\n",
    "#     isbn10 = isbn[: isbn.find(\" \")]\n",
    "#     #/html/body/div[2]/div[3]/div[1]/div[2]/div[2]/div[1]/div[2]/div[5]/div[3]/div[1]/div[1]/div[2]\n",
    "#     title = driver.find_element_by_xpath('html/body/div[2]/div[3]/div[1]/div[2]/div[2]/div[1]/div[2]/div[5]/div[3]/div[1]/div[1]/div[2]').text\n",
    "#     return isbn10,title\n",
    "    title = driver.find_element_by_id('bookTitle').text\n",
    "    author = driver.find_element_by_id('bookAuthors').text\n",
    "    rating =  driver.find_element_by_xpath('/html/body/div[2]/div[3]/div[1]/div[2]/div[2]/div[1]/div[2]/div[2]/span[2]').text\n",
    "#     '/html/body/div[2]/div[3]/div[1]/div[2]/div[2]/div[4]/div[6]/div[2]/div/div[1]/div[2]/div[3]'\n",
    "\n",
    "    metainfo = driver.find_element_by_xpath('/html/body/div[2]/div[3]/div[1]/div[2]/div[2]/div[3]/div[5]/div[2]/div/div[1]/div[2]/div[3]').text\n",
    "    metainfo = metainfo.split('·')\n",
    "    numratings,numreviews = [metainfo[1].strip(' ').split(' ')[0], metainfo[-1].strip(' ').split(' ')[0]]\n",
    "    return title,author,rating,numratings,numreviews\n",
    "    \n",
    "\n",
    "\n",
    "# logging in\n",
    "sign_in_new = '//*[@id=\"signIn\"]/div/div/a'\n",
    "click(sign_in_new)\n",
    "user_sign_in_xpath = '/html/body/div[1]/div[1]/div[2]/div/div/div/div[2]/form/fieldset/div[1]/input'\n",
    "user_sign_in_pw_xpath = '//*[@id=\"user_password\"]'\n",
    "# driver.find_element_by_id(\"userSignInFormEmail\").send_keys(USERNAME)\n",
    "# driver.find_element_by_id(\"user_password\").send_keys(PASSWORD)\n",
    "driver.find_element_by_xpath(user_sign_in_xpath).send_keys(USERNAME)\n",
    "driver.find_element_by_xpath(user_sign_in_pw_xpath).send_keys(PASSWORD)\n",
    "# sign_in = '//*[@id=\"sign_in\"]/div[3]/input[1]'\n",
    "sign_in_again = '/html/body/div[1]/div[1]/div[2]/div/div/div/div[2]/form/fieldset/div[5]/input'\n",
    "click(sign_in_again)\n",
    "time.sleep(5)\n",
    "\n",
    "# getting lists\n",
    "browse_path = '/html/body/div[2]/div/header/div[2]/div/nav/ul/li[3]/div/a' \n",
    "# browse_path = '//*[@id=\"gcaLanding\"]/div[2]/div[1]/div/header/div[1]/div/nav/ul/li[3]/div'\n",
    "click(browse_path)\n",
    "\n",
    "# (assuming browse works, these work - browse doesn't work rn)\n",
    "lists = '/html/body/div[2]/div/header/div[2]/div/nav/ul/li[3]/div/div/div/ul/li[6]/a'\n",
    "click(lists)\n",
    "more = '/html/body/div[2]/div[3]/div[1]/div[1]/div[4]/div[3]/div[2]/div/a'\n",
    "click(more)\n",
    "time.sleep(3)\n",
    "the_year_2020 = '/html/body/div[1]/div[3]/div[1]/div[1]/div[2]/div[2]/a[2]'\n",
    "click(the_year_2020)\n",
    "\n",
    "# /html/body/div[2]/div[3]/div[1]/div[2]/div[3]/div[5]/table/tbody/tr[1]\n",
    "# /html/body/div[2]/div[3]/div[1]/div[2]/div[3]/div[5]/table/tbody/tr[2]/td[3]/a/span\n",
    "\n",
    "# more detail xpath\n",
    "# /html/body/div[2]/div[3]/div[1]/div[2]/div[2]/div[1]/div[2]/div[5]/div[3]/a[1]\n",
    "# more detail html\n",
    "# \n",
    "print(\"range loop\")\n",
    "book_data = defaultdict(lambda: defaultdict(list))\n",
    "edges = defaultdict(lambda: defaultdict(list))\n",
    "\n",
    "\n",
    "for i in range(1,3):\n",
    "    time.sleep(3)\n",
    "    try:\n",
    "        goingThroughBooks = '/html/body/div[2]/div[3]/div[1]/div[2]/div[3]/div[5]/table/tbody/tr[' + str(i) + ']/td[3]/a/span'\n",
    "        click(goingThroughBooks)\n",
    "        if(i==1):\n",
    "            moreDetails = '/html/body/div[2]/div[3]/div[1]/div[2]/div[2]/div[1]/div[2]/div[5]/div[3]/a[1]'\n",
    "            click(moreDetails)\n",
    "        # bookDataBox = driver.find_element_by_id('bookDataBox')\n",
    "        # print(bookDataBox)\n",
    "        title,author,rating,numratings,numreviews = getInfo()    \n",
    "        print(title, author,rating,numratings,numreviews)\n",
    "        book_data[author][title].append((rating,numratings,numreviews))\n",
    "        # get similar books\n",
    "        for i in range(1, 6):\n",
    "            click(list_similar + '/div[' + str(i) + ']/div/div/div[2]/a/span')\n",
    "\n",
    "            try:\n",
    "                sim_title,sim_author,sim_rating,sim_numratings,sim_numreviews = getInfo()\n",
    "                book_data[sim_author][sim_title].append((sim_rating,sim_numratings,sim_numreviews))\n",
    "                edges[author][title].append((sim_author,sim_title))\n",
    "                driver.back()\n",
    "            except:\n",
    "                print('fail')\n",
    "                driver.back()\n",
    "    except:\n",
    "        print(\"Something went wrong\")\n",
    "  \n",
    "print(book_data)\n",
    "print(edges)\n",
    "# # get similar books\n",
    "# click_order = []\n",
    "# my_books = '/html/body/div[2]/div/header/div[3]/div/nav/ul/li[2]/a'\n",
    "# read = '//*[@id=\"paginatedShelfList\"]/div[1]/a'\n",
    "# see_similar_books = '//*[@id=\"relatedWorks-2963218\"]/div/div[2]/div/a'\n",
    "# list_similar = '/html/body/div[4]/div/div[3]/div[1]/div[3]/div/div'\n",
    "# click_order.append(my_books)\n",
    "# click_order.append(read)\n",
    "# click_order.append(see_similar_books)\n",
    "# click_order.append(list_similar)\n",
    "# for clickon in click_order:\n",
    "#     cick(clickon)"
   ]
  },
  {
   "cell_type": "code",
   "execution_count": 25,
   "metadata": {},
   "outputs": [
    {
     "output_type": "error",
     "ename": "NoSuchElementException",
     "evalue": "Message: no such element: Unable to locate element: {\"method\":\"xpath\",\"selector\":\"/html/body/div[2]/div[3]/div[1]/div[2]/div[3]/div[3]/div/div[2]/div/a\"}\n  (Session info: chrome=90.0.4430.212)\n",
     "traceback": [
      "\u001b[1;31m---------------------------------------------------------------------------\u001b[0m",
      "\u001b[1;31mNoSuchElementException\u001b[0m                    Traceback (most recent call last)",
      "\u001b[1;32m<ipython-input-25-6c5c403dc762>\u001b[0m in \u001b[0;36m<module>\u001b[1;34m\u001b[0m\n\u001b[0;32m      1\u001b[0m \u001b[0msee_similar_books\u001b[0m \u001b[1;33m=\u001b[0m \u001b[1;34m'/html/body/div[2]/div[3]/div[1]/div[2]/div[3]/div[3]/div/div[2]/div/a'\u001b[0m\u001b[1;33m\u001b[0m\u001b[1;33m\u001b[0m\u001b[0m\n\u001b[0;32m      2\u001b[0m \u001b[0mlist_similar\u001b[0m \u001b[1;33m=\u001b[0m \u001b[1;34m'/html/body/div[4]/div/div[3]/div[1]/div[3]/div/div'\u001b[0m\u001b[1;33m\u001b[0m\u001b[1;33m\u001b[0m\u001b[0m\n\u001b[1;32m----> 3\u001b[1;33m \u001b[0mclick\u001b[0m\u001b[1;33m(\u001b[0m\u001b[0msee_similar_books\u001b[0m\u001b[1;33m)\u001b[0m\u001b[1;33m\u001b[0m\u001b[1;33m\u001b[0m\u001b[0m\n\u001b[0m\u001b[0;32m      4\u001b[0m \u001b[1;33m\u001b[0m\u001b[0m\n\u001b[0;32m      5\u001b[0m \u001b[1;33m\u001b[0m\u001b[0m\n",
      "\u001b[1;32m<ipython-input-24-495a3e02d976>\u001b[0m in \u001b[0;36mclick\u001b[1;34m(xpath)\u001b[0m\n\u001b[0;32m     24\u001b[0m \u001b[1;33m\u001b[0m\u001b[0m\n\u001b[0;32m     25\u001b[0m \u001b[1;32mdef\u001b[0m \u001b[0mclick\u001b[0m\u001b[1;33m(\u001b[0m\u001b[0mxpath\u001b[0m\u001b[1;33m)\u001b[0m\u001b[1;33m:\u001b[0m\u001b[1;33m\u001b[0m\u001b[1;33m\u001b[0m\u001b[0m\n\u001b[1;32m---> 26\u001b[1;33m     \u001b[0mdriver\u001b[0m\u001b[1;33m.\u001b[0m\u001b[0mfind_element_by_xpath\u001b[0m\u001b[1;33m(\u001b[0m\u001b[0mxpath\u001b[0m\u001b[1;33m)\u001b[0m\u001b[1;33m.\u001b[0m\u001b[0mclick\u001b[0m\u001b[1;33m(\u001b[0m\u001b[1;33m)\u001b[0m\u001b[1;33m\u001b[0m\u001b[1;33m\u001b[0m\u001b[0m\n\u001b[0m\u001b[0;32m     27\u001b[0m \u001b[1;33m\u001b[0m\u001b[0m\n\u001b[0;32m     28\u001b[0m \u001b[1;32mdef\u001b[0m \u001b[0mgetText\u001b[0m\u001b[1;33m(\u001b[0m\u001b[0mxpath\u001b[0m\u001b[1;33m)\u001b[0m\u001b[1;33m:\u001b[0m\u001b[1;33m\u001b[0m\u001b[1;33m\u001b[0m\u001b[0m\n",
      "\u001b[1;32mC:\\ProgramData\\Anaconda3\\lib\\site-packages\\selenium\\webdriver\\remote\\webdriver.py\u001b[0m in \u001b[0;36mfind_element_by_xpath\u001b[1;34m(self, xpath)\u001b[0m\n\u001b[0;32m    392\u001b[0m             \u001b[0melement\u001b[0m \u001b[1;33m=\u001b[0m \u001b[0mdriver\u001b[0m\u001b[1;33m.\u001b[0m\u001b[0mfind_element_by_xpath\u001b[0m\u001b[1;33m(\u001b[0m\u001b[1;34m'//div/td[1]'\u001b[0m\u001b[1;33m)\u001b[0m\u001b[1;33m\u001b[0m\u001b[1;33m\u001b[0m\u001b[0m\n\u001b[0;32m    393\u001b[0m         \"\"\"\n\u001b[1;32m--> 394\u001b[1;33m         \u001b[1;32mreturn\u001b[0m \u001b[0mself\u001b[0m\u001b[1;33m.\u001b[0m\u001b[0mfind_element\u001b[0m\u001b[1;33m(\u001b[0m\u001b[0mby\u001b[0m\u001b[1;33m=\u001b[0m\u001b[0mBy\u001b[0m\u001b[1;33m.\u001b[0m\u001b[0mXPATH\u001b[0m\u001b[1;33m,\u001b[0m \u001b[0mvalue\u001b[0m\u001b[1;33m=\u001b[0m\u001b[0mxpath\u001b[0m\u001b[1;33m)\u001b[0m\u001b[1;33m\u001b[0m\u001b[1;33m\u001b[0m\u001b[0m\n\u001b[0m\u001b[0;32m    395\u001b[0m \u001b[1;33m\u001b[0m\u001b[0m\n\u001b[0;32m    396\u001b[0m     \u001b[1;32mdef\u001b[0m \u001b[0mfind_elements_by_xpath\u001b[0m\u001b[1;33m(\u001b[0m\u001b[0mself\u001b[0m\u001b[1;33m,\u001b[0m \u001b[0mxpath\u001b[0m\u001b[1;33m)\u001b[0m\u001b[1;33m:\u001b[0m\u001b[1;33m\u001b[0m\u001b[1;33m\u001b[0m\u001b[0m\n",
      "\u001b[1;32mC:\\ProgramData\\Anaconda3\\lib\\site-packages\\selenium\\webdriver\\remote\\webdriver.py\u001b[0m in \u001b[0;36mfind_element\u001b[1;34m(self, by, value)\u001b[0m\n\u001b[0;32m    976\u001b[0m         return self.execute(Command.FIND_ELEMENT, {\n\u001b[0;32m    977\u001b[0m             \u001b[1;34m'using'\u001b[0m\u001b[1;33m:\u001b[0m \u001b[0mby\u001b[0m\u001b[1;33m,\u001b[0m\u001b[1;33m\u001b[0m\u001b[1;33m\u001b[0m\u001b[0m\n\u001b[1;32m--> 978\u001b[1;33m             'value': value})['value']\n\u001b[0m\u001b[0;32m    979\u001b[0m \u001b[1;33m\u001b[0m\u001b[0m\n\u001b[0;32m    980\u001b[0m     \u001b[1;32mdef\u001b[0m \u001b[0mfind_elements\u001b[0m\u001b[1;33m(\u001b[0m\u001b[0mself\u001b[0m\u001b[1;33m,\u001b[0m \u001b[0mby\u001b[0m\u001b[1;33m=\u001b[0m\u001b[0mBy\u001b[0m\u001b[1;33m.\u001b[0m\u001b[0mID\u001b[0m\u001b[1;33m,\u001b[0m \u001b[0mvalue\u001b[0m\u001b[1;33m=\u001b[0m\u001b[1;32mNone\u001b[0m\u001b[1;33m)\u001b[0m\u001b[1;33m:\u001b[0m\u001b[1;33m\u001b[0m\u001b[1;33m\u001b[0m\u001b[0m\n",
      "\u001b[1;32mC:\\ProgramData\\Anaconda3\\lib\\site-packages\\selenium\\webdriver\\remote\\webdriver.py\u001b[0m in \u001b[0;36mexecute\u001b[1;34m(self, driver_command, params)\u001b[0m\n\u001b[0;32m    319\u001b[0m         \u001b[0mresponse\u001b[0m \u001b[1;33m=\u001b[0m \u001b[0mself\u001b[0m\u001b[1;33m.\u001b[0m\u001b[0mcommand_executor\u001b[0m\u001b[1;33m.\u001b[0m\u001b[0mexecute\u001b[0m\u001b[1;33m(\u001b[0m\u001b[0mdriver_command\u001b[0m\u001b[1;33m,\u001b[0m \u001b[0mparams\u001b[0m\u001b[1;33m)\u001b[0m\u001b[1;33m\u001b[0m\u001b[1;33m\u001b[0m\u001b[0m\n\u001b[0;32m    320\u001b[0m         \u001b[1;32mif\u001b[0m \u001b[0mresponse\u001b[0m\u001b[1;33m:\u001b[0m\u001b[1;33m\u001b[0m\u001b[1;33m\u001b[0m\u001b[0m\n\u001b[1;32m--> 321\u001b[1;33m             \u001b[0mself\u001b[0m\u001b[1;33m.\u001b[0m\u001b[0merror_handler\u001b[0m\u001b[1;33m.\u001b[0m\u001b[0mcheck_response\u001b[0m\u001b[1;33m(\u001b[0m\u001b[0mresponse\u001b[0m\u001b[1;33m)\u001b[0m\u001b[1;33m\u001b[0m\u001b[1;33m\u001b[0m\u001b[0m\n\u001b[0m\u001b[0;32m    322\u001b[0m             response['value'] = self._unwrap_value(\n\u001b[0;32m    323\u001b[0m                 response.get('value', None))\n",
      "\u001b[1;32mC:\\ProgramData\\Anaconda3\\lib\\site-packages\\selenium\\webdriver\\remote\\errorhandler.py\u001b[0m in \u001b[0;36mcheck_response\u001b[1;34m(self, response)\u001b[0m\n\u001b[0;32m    240\u001b[0m                 \u001b[0malert_text\u001b[0m \u001b[1;33m=\u001b[0m \u001b[0mvalue\u001b[0m\u001b[1;33m[\u001b[0m\u001b[1;34m'alert'\u001b[0m\u001b[1;33m]\u001b[0m\u001b[1;33m.\u001b[0m\u001b[0mget\u001b[0m\u001b[1;33m(\u001b[0m\u001b[1;34m'text'\u001b[0m\u001b[1;33m)\u001b[0m\u001b[1;33m\u001b[0m\u001b[1;33m\u001b[0m\u001b[0m\n\u001b[0;32m    241\u001b[0m             \u001b[1;32mraise\u001b[0m \u001b[0mexception_class\u001b[0m\u001b[1;33m(\u001b[0m\u001b[0mmessage\u001b[0m\u001b[1;33m,\u001b[0m \u001b[0mscreen\u001b[0m\u001b[1;33m,\u001b[0m \u001b[0mstacktrace\u001b[0m\u001b[1;33m,\u001b[0m \u001b[0malert_text\u001b[0m\u001b[1;33m)\u001b[0m\u001b[1;33m\u001b[0m\u001b[1;33m\u001b[0m\u001b[0m\n\u001b[1;32m--> 242\u001b[1;33m         \u001b[1;32mraise\u001b[0m \u001b[0mexception_class\u001b[0m\u001b[1;33m(\u001b[0m\u001b[0mmessage\u001b[0m\u001b[1;33m,\u001b[0m \u001b[0mscreen\u001b[0m\u001b[1;33m,\u001b[0m \u001b[0mstacktrace\u001b[0m\u001b[1;33m)\u001b[0m\u001b[1;33m\u001b[0m\u001b[1;33m\u001b[0m\u001b[0m\n\u001b[0m\u001b[0;32m    243\u001b[0m \u001b[1;33m\u001b[0m\u001b[0m\n\u001b[0;32m    244\u001b[0m     \u001b[1;32mdef\u001b[0m \u001b[0m_value_or_default\u001b[0m\u001b[1;33m(\u001b[0m\u001b[0mself\u001b[0m\u001b[1;33m,\u001b[0m \u001b[0mobj\u001b[0m\u001b[1;33m,\u001b[0m \u001b[0mkey\u001b[0m\u001b[1;33m,\u001b[0m \u001b[0mdefault\u001b[0m\u001b[1;33m)\u001b[0m\u001b[1;33m:\u001b[0m\u001b[1;33m\u001b[0m\u001b[1;33m\u001b[0m\u001b[0m\n",
      "\u001b[1;31mNoSuchElementException\u001b[0m: Message: no such element: Unable to locate element: {\"method\":\"xpath\",\"selector\":\"/html/body/div[2]/div[3]/div[1]/div[2]/div[3]/div[3]/div/div[2]/div/a\"}\n  (Session info: chrome=90.0.4430.212)\n"
     ]
    }
   ],
   "source": [
    "see_similar_books = '/html/body/div[2]/div[3]/div[1]/div[2]/div[3]/div[3]/div/div[2]/div/a'\n",
    "list_similar = '/html/body/div[4]/div/div[3]/div[1]/div[3]/div/div'\n",
    "click(see_similar_books)\n",
    "\n",
    "\n"
   ]
  },
  {
   "cell_type": "code",
   "execution_count": 19,
   "metadata": {},
   "outputs": [],
   "source": [
    "with open('book_data_1.json', 'w') as outfile:\n",
    "    json.dump(book_data, outfile)\n",
    "\n",
    "with open('book_edges_1.json', 'w') as outfile:\n",
    "    json.dump(edges, outfile)\n",
    "\n"
   ]
  },
  {
   "cell_type": "code",
   "execution_count": null,
   "metadata": {},
   "outputs": [],
   "source": []
  }
 ],
 "metadata": {
  "kernelspec": {
   "name": "python376jvsc74a57bd0b3ba2566441a7c06988d0923437866b63cedc61552a5af99d1f4fb67d367b25f",
   "display_name": "Python 3.7.6 64-bit ('base': conda)"
  },
  "language_info": {
   "codemirror_mode": {
    "name": "ipython",
    "version": 3
   },
   "file_extension": ".py",
   "mimetype": "text/x-python",
   "name": "python",
   "nbconvert_exporter": "python",
   "pygments_lexer": "ipython3",
   "version": "3.7.6"
  }
 },
 "nbformat": 4,
 "nbformat_minor": 4
}